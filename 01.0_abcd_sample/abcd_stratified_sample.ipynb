{
 "cells": [
  {
   "cell_type": "code",
   "execution_count": null,
   "id": "8ff0c807",
   "metadata": {},
   "outputs": [],
   "source": [
    "import pandas as pd\n",
    "import numpy as np\n",
    "import matplotlib.pyplot as plt"
   ]
  },
  {
   "cell_type": "code",
   "execution_count": null,
   "id": "00790565",
   "metadata": {},
   "outputs": [],
   "source": [
    "table_path_fstring = \"/home/ebrahim/data/abcd/Package_1200530/{}.txt\"\n",
    "dict_path_fstring = \"/home/ebrahim/data/abcd/abcd-4.0-data-dictionaries/{}.csv\"\n",
    "\n",
    "def read_abcd_table(table_name):\n",
    "    table_path = table_path_fstring.format(table_name)\n",
    "    dict_path = dict_path_fstring.format(table_name)\n",
    "    data_dictionary = pd.read_csv(dict_path, index_col='ElementName')\n",
    "    df = pd.read_csv(table_path, sep='\\t', header=0, skiprows=[1])\n",
    "    return df, data_dictionary"
   ]
  },
  {
   "cell_type": "code",
   "execution_count": null,
   "id": "4a947e6a",
   "metadata": {},
   "outputs": [],
   "source": [
    "# Load mental health data and demographic data\n",
    "mh_tab, mh_dd = read_abcd_table(\"abcd_ksad01\") # Mental health\n",
    "demo_tab, demo_dd = read_abcd_table(\"pdem02\") # Demographic\n",
    "mri_tab, mri_dd = read_abcd_table('abcd_mri01') # Scanner info\n",
    "lt_tab, lt_dd = read_abcd_table('abcd_lt01') # Study site info"
   ]
  },
  {
   "cell_type": "code",
   "execution_count": null,
   "id": "57c756d3",
   "metadata": {},
   "outputs": [],
   "source": [
    "# Verify they have the exact same number of subjects\n",
    "assert(len(mh_tab.subjectkey.unique()) == len(demo_tab.subjectkey.unique()))\n",
    "assert(len(lt_tab.subjectkey.unique()) == len(demo_tab.subjectkey.unique()))\n",
    "\n",
    "# Except MRI info is missing some subjects\n",
    "print(len(lt_tab.subjectkey.unique()) - len(mri_tab.subjectkey.unique()), \"subjects do not show up in scanner info table.\")"
   ]
  },
  {
   "cell_type": "code",
   "execution_count": null,
   "id": "e38033d4",
   "metadata": {
    "scrolled": true
   },
   "outputs": [],
   "source": [
    "# A bit slow; skip this cell. The purpose is to verify that any pair of rows with the same\n",
    "# subject key have all other data also matching (or nan). So there is just duplication for some reason.\n",
    "peup = demo_tab.groupby('subjectkey').agg(lambda s : s.nunique())\n",
    "((peup==0) | (peup==1)).all().all()"
   ]
  },
  {
   "cell_type": "code",
   "execution_count": null,
   "id": "ed8f4bba",
   "metadata": {},
   "outputs": [],
   "source": [
    "# A bit slow; skip this cell. The purpose is to verify that any pair of rows with the same\n",
    "# subject key  and interview age have all other data also matching.\n",
    "# So there is duplication for some reason\n",
    "# and we can safely select the first element at each (subjectkey, interview_age) pair.\n",
    "peup = mri_tab.groupby(['subjectkey', 'interview_age']).agg(lambda s : s.nunique())\n",
    "(peup==1).all().all()"
   ]
  },
  {
   "cell_type": "code",
   "execution_count": null,
   "id": "380f6dbf",
   "metadata": {},
   "outputs": [],
   "source": [
    "# # A bit slow; skip this cell. Similar to above but for lt_tab.\n",
    "# This time it's the eventname, and not the interview_age, that should give a unique row for a given subject\n",
    "# (Weirdly, for the same subject and same interview age, it is possible for more than one event to occur;\n",
    "# for example the 18 month follow-up and the 2 year follow-up showing up with the same interview age)\n",
    "peup = lt_tab.groupby(['subjectkey', 'eventname']).agg(lambda s : s.nunique())\n",
    "((peup==0) | (peup==1)).all().all()"
   ]
  },
  {
   "cell_type": "markdown",
   "id": "c4185886",
   "metadata": {},
   "source": [
    "In the cells below, I didn't know of `drop_duplicates`, which is what I should have used."
   ]
  },
  {
   "cell_type": "code",
   "execution_count": null,
   "id": "b4771dce",
   "metadata": {},
   "outputs": [],
   "source": [
    "# Just take the first of each duplicated set of rows\n",
    "demo_tab_fixed = demo_tab.groupby('subjectkey', as_index=False).apply(lambda s : s.iloc[0])\n",
    "mri_tab_fixed = mri_tab.groupby(['subjectkey', 'interview_age'], as_index=False).apply(lambda s : s.iloc[0])\n",
    "lt_tab_fixed = lt_tab.groupby(['subjectkey', 'eventname'], as_index=False).apply(lambda s : s.iloc[0])"
   ]
  },
  {
   "cell_type": "code",
   "execution_count": null,
   "id": "6376cdc1",
   "metadata": {},
   "outputs": [],
   "source": [
    "# I've already verified in the notebook \"abcd_bipolar_richness\" that there's duplication in mh_tab\n",
    "# So also let's just take the first of each pair (where this time it's both subjectkey and interview age\n",
    "# that index the rows with unique information)\n",
    "mh_tab_fixed = mh_tab.groupby(['subjectkey', 'interview_age'], as_index=False).apply(lambda s: s.iloc[0])"
   ]
  },
  {
   "cell_type": "code",
   "execution_count": null,
   "id": "80ef74e6",
   "metadata": {},
   "outputs": [],
   "source": [
    "# Function to help take stratified samples\n",
    "def take_sample_stratified_by(df, by, frac):\n",
    "    return df.groupby(by, as_index=False, group_keys=False).apply(lambda x : x.sample(frac=frac))"
   ]
  },
  {
   "cell_type": "code",
   "execution_count": null,
   "id": "412b92c1",
   "metadata": {},
   "outputs": [],
   "source": [
    "# example taking sample stratified by gender\n",
    "take_sample_stratified_by(demo_tab_fixed, ['demo_gender_id_v2'], 0.005).demo_gender_id_v2.value_counts()"
   ]
  },
  {
   "cell_type": "code",
   "execution_count": null,
   "id": "fd7ac4c2",
   "metadata": {},
   "outputs": [],
   "source": [
    "# Let's see how many people selected more than one race\n",
    "race_binary_cols = [f'demo_race_a_p___{n}' for n in list(range(10,26))+[77,99]]\n",
    "demo_tab_fixed[race_binary_cols].apply(lambda x : x.sum(), axis=1).value_counts()"
   ]
  },
  {
   "cell_type": "markdown",
   "id": "de6634b5",
   "metadata": {},
   "source": [
    "Okay, race looks a little more complicated, so let's ignore that and just hope random sampling takes care of it.\n",
    "\n",
    "I'm also not going to take mental health info from `mh_tab` into the stratification for now. We don't have much of a justification at this point to stratify by mental health info."
   ]
  },
  {
   "cell_type": "code",
   "execution_count": null,
   "id": "8193b395",
   "metadata": {},
   "outputs": [],
   "source": [
    "# Let's see how many people ended up at multiple different sites\n",
    "( lt_tab_fixed.groupby(['subjectkey']).site_id_l.agg(lambda x : x.nunique()) ).value_counts()"
   ]
  },
  {
   "cell_type": "markdown",
   "id": "1f560148",
   "metadata": {},
   "source": [
    "Hmm so there are 157 people who ended up at more than one study site.\n",
    "So if we choose to stratify our sampling by study site then we'd have to do it at the \"event\" level and not at the \"subject\" level."
   ]
  },
  {
   "cell_type": "code",
   "execution_count": null,
   "id": "b02fe8da",
   "metadata": {},
   "outputs": [],
   "source": [
    "# Let's see how many people ended up with multiple different scanner models\n",
    "( mri_tab_fixed.groupby(['subjectkey']).mri_info_manufacturersmn.agg(lambda x : x.nunique()) ).value_counts()"
   ]
  },
  {
   "cell_type": "markdown",
   "id": "2d7a853b",
   "metadata": {},
   "source": [
    "So 465 people had scans with multiple different scanner models. If we choose to stratify our sampling by scanner model then we'd have to do it at the \"event\" level and not at the \"subject\" level."
   ]
  },
  {
   "cell_type": "markdown",
   "id": "21a833e7",
   "metadata": {},
   "source": [
    "Below I do stratification at the subject level only, so for now I ignore site and scanner in the sampling."
   ]
  },
  {
   "cell_type": "code",
   "execution_count": null,
   "id": "74be1e2e",
   "metadata": {},
   "outputs": [],
   "source": [
    "stratify_by = [\n",
    "    'demo_gender_id_v2', # Gender identity\n",
    "    'demo_brthdat_v2' # Baseline age\n",
    "]"
   ]
  },
  {
   "cell_type": "code",
   "execution_count": null,
   "id": "164c4e55",
   "metadata": {
    "scrolled": true
   },
   "outputs": [],
   "source": [
    "sample = take_sample_stratified_by(demo_tab_fixed, stratify_by, 0.005)\n",
    "sample.subjectkey.to_csv('sampled_subjectkeys.csv')"
   ]
  },
  {
   "cell_type": "code",
   "execution_count": null,
   "id": "c264c3db",
   "metadata": {
    "scrolled": true
   },
   "outputs": [],
   "source": [
    "table_path = table_path_fstring.format(\"fmriresults01\")\n",
    "dmri_df = pd.read_csv(table_path, sep='\\t', header=0, skiprows=[1])"
   ]
  },
  {
   "cell_type": "code",
   "execution_count": null,
   "id": "85d822db",
   "metadata": {},
   "outputs": [],
   "source": [
    "# There appears to also be a duplication of rows in the fmriresults01 table\n",
    "# The following line includes 'fmriresults01_id' in the grouping to fix the duplication.\n",
    "# The reason for this is that there are sometimes multiple scans for the same subject with the same interview age\n",
    "# (I believe the reason for this is that the kids\n",
    "# sometimes had to take a break in the middle of a scan session)\n",
    "dmri_df_fixed = dmri_df.groupby(['subjectkey', 'interview_age', 'fmriresults01_id']).apply(lambda x : x.iloc[0])"
   ]
  },
  {
   "cell_type": "code",
   "execution_count": null,
   "id": "dd10e562",
   "metadata": {},
   "outputs": [],
   "source": [
    "sample_dmri = dmri_df_fixed.loc[dmri_df_fixed.subjectkey.isin(sample.subjectkey)]\n",
    "sample_dmri = sample_dmri.reset_index(drop=True)"
   ]
  },
  {
   "cell_type": "code",
   "execution_count": null,
   "id": "edbc54b6",
   "metadata": {},
   "outputs": [],
   "source": [
    "sample_dmri.to_csv('sampled_fmriresults01.csv')"
   ]
  },
  {
   "cell_type": "code",
   "execution_count": null,
   "id": "63fa3766",
   "metadata": {},
   "outputs": [],
   "source": [
    "with open('sample_derived_files.txt', 'w') as f:\n",
    "    for item in sample_dmri.derived_files:\n",
    "        f.write(\"%s\\n\" % item)"
   ]
  }
 ],
 "metadata": {
  "kernelspec": {
   "display_name": "Python 3 (ipykernel)",
   "language": "python",
   "name": "python3"
  },
  "language_info": {
   "codemirror_mode": {
    "name": "ipython",
    "version": 3
   },
   "file_extension": ".py",
   "mimetype": "text/x-python",
   "name": "python",
   "nbconvert_exporter": "python",
   "pygments_lexer": "ipython3",
   "version": "3.8.10"
  }
 },
 "nbformat": 4,
 "nbformat_minor": 5
}
