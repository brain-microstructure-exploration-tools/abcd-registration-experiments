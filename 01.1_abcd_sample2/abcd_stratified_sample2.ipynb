{
 "cells": [
  {
   "cell_type": "code",
   "execution_count": 1,
   "id": "8ff0c807",
   "metadata": {},
   "outputs": [],
   "source": [
    "import pandas as pd\n",
    "import numpy as np\n",
    "import matplotlib.pyplot as plt"
   ]
  },
  {
   "cell_type": "code",
   "execution_count": 2,
   "id": "00790565",
   "metadata": {},
   "outputs": [],
   "source": [
    "table_path_fstring = \"/home/ebrahim/data/abcd/Package_1200530/{}.txt\"\n",
    "dict_path_fstring = \"/home/ebrahim/data/abcd/abcd-4.0-data-dictionaries/{}.csv\"\n",
    "\n",
    "def read_abcd_table(table_name):\n",
    "    table_path = table_path_fstring.format(table_name)\n",
    "    dict_path = dict_path_fstring.format(table_name)\n",
    "    data_dictionary = pd.read_csv(dict_path, index_col='ElementName')\n",
    "    df = pd.read_csv(table_path, sep='\\t', header=0, skiprows=[1])\n",
    "    return df, data_dictionary"
   ]
  },
  {
   "cell_type": "code",
   "execution_count": 3,
   "id": "4a947e6a",
   "metadata": {},
   "outputs": [],
   "source": [
    "# Load mental health data and demographic data\n",
    "mh_tab, mh_dd = read_abcd_table(\"abcd_ksad01\") # Mental health\n",
    "demo_tab, demo_dd = read_abcd_table(\"pdem02\") # Demographic\n",
    "mri_tab, mri_dd = read_abcd_table('abcd_mri01') # Scanner info\n",
    "lt_tab, lt_dd = read_abcd_table('abcd_lt01') # Study site info"
   ]
  },
  {
   "cell_type": "code",
   "execution_count": 4,
   "id": "57c756d3",
   "metadata": {},
   "outputs": [
    {
     "name": "stdout",
     "output_type": "stream",
     "text": [
      "44 subjects do not show up in scanner info table.\n"
     ]
    }
   ],
   "source": [
    "# Verify they have the exact same number of subjects\n",
    "assert(len(mh_tab.subjectkey.unique()) == len(demo_tab.subjectkey.unique()))\n",
    "assert(len(lt_tab.subjectkey.unique()) == len(demo_tab.subjectkey.unique()))\n",
    "\n",
    "# Except MRI info is missing some subjects\n",
    "print(len(lt_tab.subjectkey.unique()) - len(mri_tab.subjectkey.unique()), \"subjects do not show up in scanner info table.\")"
   ]
  },
  {
   "cell_type": "code",
   "execution_count": 5,
   "id": "b4771dce",
   "metadata": {},
   "outputs": [],
   "source": [
    "# Drop duplicates (for some reason these tables have duplicated rows)\n",
    "demo_tab = demo_tab.drop_duplicates()\n",
    "mri_tab = mri_tab.drop_duplicates()\n",
    "lt_tab = lt_tab.drop_duplicates()\n",
    "mh_tab = mh_tab.drop_duplicates()"
   ]
  },
  {
   "cell_type": "code",
   "execution_count": 6,
   "id": "80ef74e6",
   "metadata": {},
   "outputs": [],
   "source": [
    "# Function to help take stratified samples\n",
    "def take_sample_stratified_by(df, by, frac):\n",
    "    return df.groupby(by, as_index=False, group_keys=False).apply(lambda x : x.sample(frac=frac))"
   ]
  },
  {
   "cell_type": "code",
   "execution_count": 7,
   "id": "412b92c1",
   "metadata": {},
   "outputs": [
    {
     "data": {
      "text/plain": [
       "1.0    31\n",
       "2.0    28\n",
       "Name: demo_gender_id_v2, dtype: int64"
      ]
     },
     "execution_count": 7,
     "metadata": {},
     "output_type": "execute_result"
    }
   ],
   "source": [
    "# example taking sample stratified by gender\n",
    "take_sample_stratified_by(demo_tab, ['demo_gender_id_v2'], 0.005).demo_gender_id_v2.value_counts()"
   ]
  },
  {
   "cell_type": "code",
   "execution_count": 8,
   "id": "8193b395",
   "metadata": {},
   "outputs": [
    {
     "data": {
      "text/plain": [
       "1    11719\n",
       "2      152\n",
       "3        5\n",
       "Name: site_id_l, dtype: int64"
      ]
     },
     "execution_count": 8,
     "metadata": {},
     "output_type": "execute_result"
    }
   ],
   "source": [
    "# Let's see how many people ended up at multiple different sites\n",
    "num_sites = lt_tab.groupby(['subjectkey']).site_id_l.agg(lambda x : x.nunique())\n",
    "num_sites.value_counts()"
   ]
  },
  {
   "cell_type": "markdown",
   "id": "1f560148",
   "metadata": {},
   "source": [
    "Hmm so there are 157 people who ended up at more than one study site.\n",
    "So if we choose to stratify our sampling by study site then we'd have to do it at the \"event\" level and not at the \"subject\" level."
   ]
  },
  {
   "cell_type": "code",
   "execution_count": 9,
   "id": "b02fe8da",
   "metadata": {},
   "outputs": [
    {
     "data": {
      "text/plain": [
       "1    11367\n",
       "2      465\n",
       "Name: mri_info_manufacturersmn, dtype: int64"
      ]
     },
     "execution_count": 9,
     "metadata": {},
     "output_type": "execute_result"
    }
   ],
   "source": [
    "# Let's see how many people ended up with multiple different scanner models\n",
    "num_scanners = mri_tab.groupby(['subjectkey']).mri_info_manufacturersmn.agg(lambda x : x.nunique())\n",
    "num_scanners.value_counts()"
   ]
  },
  {
   "cell_type": "markdown",
   "id": "2d7a853b",
   "metadata": {},
   "source": [
    "So 465 people had scans with multiple different scanner models. If we choose to stratify our sampling by scanner model then we'd have to do it at the \"event\" level and not at the \"subject\" level.\n",
    "\n",
    "Or we can just drop the subjects that changes scanners or sites; they are a small minority anyway.\n",
    "\n",
    "Next we merge the site and scanner info into demo tab to a create a new table that we will sample from:"
   ]
  },
  {
   "cell_type": "code",
   "execution_count": 10,
   "id": "768064f7",
   "metadata": {
    "scrolled": true
   },
   "outputs": [
    {
     "name": "stdout",
     "output_type": "stream",
     "text": [
      "Dropped 600 subjects that had either multiple scanners or multiple sites.\n"
     ]
    }
   ],
   "source": [
    "# df shall be the filtered table we will sample from\n",
    "df = demo_tab.set_index('subjectkey')\n",
    "rows_before_filtering = len(df)\n",
    "df['num_scanners'] = num_scanners\n",
    "df = df[df.num_scanners==1] # drop the 465 subjects who had 2 scanner types, and the 44 who didn't have any\n",
    "df['num_sites'] = num_sites\n",
    "df = df[df.num_sites == 1] # drop the 91 people who went to more than one study site (despite same scanner)\n",
    "rows_dropped = rows_before_filtering - len(df)\n",
    "print(f\"Dropped {rows_dropped} subjects that had either multiple scanners or multiple sites.\")\n",
    "mri_info_manufacturersmn = mri_tab.groupby('subjectkey').mri_info_manufacturersmn.agg(lambda x : x.iloc[0])\n",
    "df = df.merge(right=mri_info_manufacturersmn, how='left', left_index=True, right_on='subjectkey')\n",
    "site_id_l = lt_tab.groupby(['subjectkey']).site_id_l.agg(lambda x : x.iloc[0])\n",
    "df = df.merge(right=site_id_l, how='left', left_index=True, right_on='subjectkey')"
   ]
  },
  {
   "cell_type": "code",
   "execution_count": 11,
   "id": "bc8f6b4e",
   "metadata": {},
   "outputs": [
    {
     "data": {
      "image/png": "[encoded data removed]",
      "text/plain": [
       "<Figure size 432x288 with 1 Axes>"
      ]
     },
     "metadata": {
      "needs_background": "light"
     },
     "output_type": "display_data"
    },
    {
     "data": {
      "image/png": "[encoded data removed]",
      "text/plain": [
       "<Figure size 432x288 with 1 Axes>"
      ]
     },
     "metadata": {
      "needs_background": "light"
     },
     "output_type": "display_data"
    }
   ],
   "source": [
    "# Look at these plots of site and scanner model distribution now, so we can compare before and after sampling\n",
    "site_id_val_counts = site_id_l.value_counts()\n",
    "plt.bar(range(len(site_id_val_counts)), site_id_val_counts)\n",
    "plt.xticks(ticks = range(len(site_id_val_counts)), labels=site_id_val_counts.index, rotation='vertical')\n",
    "plt.ylabel('number of subjects')\n",
    "plt.title(\"number of subjects at each site\\n(for those subjects that had only one site)\")\n",
    "plt.show()\n",
    "\n",
    "scanner_val_counts = mri_info_manufacturersmn.value_counts()\n",
    "plt.bar(range(len(scanner_val_counts)), scanner_val_counts)\n",
    "plt.xticks(ticks = range(len(scanner_val_counts)), labels=scanner_val_counts.index, rotation='vertical')\n",
    "plt.ylabel('number of subjects')\n",
    "plt.title(\"number of subjects for each scanner model\\n(for those subjects that had only one scanner)\")\n",
    "plt.show()"
   ]
  },
  {
   "cell_type": "markdown",
   "id": "21a833e7",
   "metadata": {},
   "source": [
    "Let's now decide how to stratify the sample we will take."
   ]
  },
  {
   "cell_type": "code",
   "execution_count": 12,
   "id": "74be1e2e",
   "metadata": {},
   "outputs": [],
   "source": [
    "stratify_by = [\n",
    "    'demo_gender_id_v2', # Gender identity\n",
    "    'demo_brthdat_v2', # Baseline age\n",
    "    'site_id_l', # Study site\n",
    "    'mri_info_manufacturersmn', # Scanner model\n",
    "]"
   ]
  },
  {
   "cell_type": "code",
   "execution_count": 13,
   "id": "164c4e55",
   "metadata": {
    "scrolled": true
   },
   "outputs": [],
   "source": [
    "# Finally, take the stratified sample, reserving 20% (also stratified) of it as a test set\n",
    "\n",
    "sample = take_sample_stratified_by(df, stratify_by, 0.03)\n",
    "sample_test = take_sample_stratified_by(sample, stratify_by, 0.2)\n",
    "sample_nontest = sample.drop(sample_test.index)"
   ]
  },
  {
   "cell_type": "code",
   "execution_count": 14,
   "id": "db54114f",
   "metadata": {},
   "outputs": [
    {
     "name": "stdout",
     "output_type": "stream",
     "text": [
      "Dropped 0 subjects for test set.\n"
     ]
    }
   ],
   "source": [
    "# Make sure to exclude from test set any subjects that happene to be part of previous exploration\n",
    "\n",
    "forbidden_subjects = set(pd.read_csv('../01.0_abcd_sample/sampled_subjectkeys.csv').subjectkey)\n",
    "to_drop = forbidden_subjects.intersection(sample_test.index)\n",
    "sample_test = sample_test.drop(to_drop)\n",
    "print(f\"Dropped {len(to_drop)} subjects for test set.\")"
   ]
  },
  {
   "cell_type": "code",
   "execution_count": 15,
   "id": "c5cd99e5",
   "metadata": {},
   "outputs": [
    {
     "data": {
      "image/png": "[encoded data removed]",
      "text/plain": [
       "<Figure size 432x288 with 1 Axes>"
      ]
     },
     "metadata": {
      "needs_background": "light"
     },
     "output_type": "display_data"
    },
    {
     "data": {
      "image/png": "[encoded data removed]",
      "text/plain": [
       "<Figure size 432x288 with 1 Axes>"
      ]
     },
     "metadata": {
      "needs_background": "light"
     },
     "output_type": "display_data"
    }
   ],
   "source": [
    "# Examine the same histograms as above but now for the stratified sample, just to\n",
    "# verify that stratification is working as expected\n",
    "# Look at these plots of site and scanner model distribution now, so we can compare before and after sampling\n",
    "site_id_val_counts = sample_nontest.site_id_l.value_counts()\n",
    "plt.bar(range(len(site_id_val_counts)), site_id_val_counts)\n",
    "plt.xticks(ticks = range(len(site_id_val_counts)), labels=site_id_val_counts.index, rotation='vertical')\n",
    "plt.ylabel('number of subjects')\n",
    "plt.title(\"number of subjects at each site\\n(for those subjects that had only one site)\")\n",
    "plt.show()\n",
    "\n",
    "scanner_val_counts = sample_nontest.mri_info_manufacturersmn.value_counts()\n",
    "plt.bar(range(len(scanner_val_counts)), scanner_val_counts)\n",
    "plt.xticks(ticks = range(len(scanner_val_counts)), labels=scanner_val_counts.index, rotation='vertical')\n",
    "plt.ylabel('number of subjects')\n",
    "plt.title(\"number of subjects for each scanner model\\n(for those subjects that had only one scanner)\")\n",
    "plt.show()"
   ]
  },
  {
   "cell_type": "code",
   "execution_count": 16,
   "id": "c264c3db",
   "metadata": {
    "scrolled": true
   },
   "outputs": [],
   "source": [
    "table_path = table_path_fstring.format(\"fmriresults01\")\n",
    "dmri_df = pd.read_csv(table_path, sep='\\t', header=0, skiprows=[1])\n",
    "dmri_df = dmri_df.drop_duplicates() # This one also has duplicated rows"
   ]
  },
  {
   "cell_type": "code",
   "execution_count": 17,
   "id": "ffe91869",
   "metadata": {},
   "outputs": [
    {
     "name": "stdout",
     "output_type": "stream",
     "text": [
      "Here are the final counts:\n",
      "Number of subjects in non-test set: 230\n",
      "Number of files in non-test set: 260\n",
      "Number of subjects in test set: 74\n",
      "Number of files in test set: 84\n"
     ]
    }
   ],
   "source": [
    "# For each subject, randomly pick from among their interviews\n",
    "# (baseline or 2 year follow up. keep in mind that some subjects only have one scan though,\n",
    "# and some have no scans so we lose those subjects)\n",
    "# (also keep in mind that some subjects have multiple scans within the same interview, so\n",
    "# the resulting tables below are not unique on subjectid)\n",
    "def randomly_pick_interview_date_within_each_subject(df):\n",
    "    random_choices = df[['subjectkey','interview_date']].drop_duplicates().groupby('subjectkey', as_index=False).agg(lambda x : x.sample())\n",
    "    return df.set_index(['subjectkey','interview_date']).loc[random_choices.itertuples(index=False)].reset_index()\n",
    "sample_nontest_fmriresults01 = randomly_pick_interview_date_within_each_subject(dmri_df.loc[dmri_df.subjectkey.isin(sample_nontest.index)])\n",
    "sample_test_fmriresults01 = randomly_pick_interview_date_within_each_subject(dmri_df.loc[dmri_df.subjectkey.isin(sample_test.index)])\n",
    "\n",
    "sample_nontest_fmriresults01.to_csv('sampled_nontest_fmriresults01.csv')\n",
    "sample_test_fmriresults01.to_csv('sampled_test_fmriresults01.csv')\n",
    "\n",
    "# Save the subject keys for future reference\n",
    "test_subjectkeys = sample_test_fmriresults01.subjectkey.drop_duplicates()\n",
    "nontest_subjectkeys = sample_nontest_fmriresults01.subjectkey.drop_duplicates()\n",
    "test_subjectkeys.to_csv('sampled_subjectkeys_test.csv',index=False)\n",
    "nontest_subjectkeys.to_csv('sampled_subjectkeys_nontest.csv',index=False)\n",
    "\n",
    "print(\"Here are the final counts:\")\n",
    "print(f\"Number of subjects in non-test set: {len(nontest_subjectkeys)}\")\n",
    "print(f\"Number of files in non-test set: {len(sample_nontest_fmriresults01)}\")\n",
    "print(f\"Number of subjects in test set: {len(test_subjectkeys)}\")\n",
    "print(f\"Number of files in test set: {len(sample_test_fmriresults01)}\")"
   ]
  },
  {
   "cell_type": "code",
   "execution_count": 18,
   "id": "63fa3766",
   "metadata": {},
   "outputs": [],
   "source": [
    "# Save the derived file S3 links for download using the nda download manager\n",
    "with open('sample_nontest_derived_files.txt', 'w') as f:\n",
    "    for item in sample_nontest_fmriresults01.derived_files:\n",
    "        f.write(\"%s\\n\" % item)\n",
    "\n",
    "with open('sample_test_derived_files.txt', 'w') as f:\n",
    "    for item in sample_test_fmriresults01.derived_files:\n",
    "        f.write(\"%s\\n\" % item)"
   ]
  },
  {
   "cell_type": "code",
   "execution_count": 19,
   "id": "0f9f7acc",
   "metadata": {},
   "outputs": [],
   "source": [
    "# Concatenate to download them all in one command later on\n",
    "!cat 'sample_nontest_derived_files.txt' 'sample_test_derived_files.txt' > 'sample_all_derived_files.txt'"
   ]
  }
 ],
 "metadata": {
  "kernelspec": {
   "display_name": "Python 3 (ipykernel)",
   "language": "python",
   "name": "python3"
  },
  "language_info": {
   "codemirror_mode": {
    "name": "ipython",
    "version": 3
   },
   "file_extension": ".py",
   "mimetype": "text/x-python",
   "name": "python",
   "nbconvert_exporter": "python",
   "pygments_lexer": "ipython3",
   "version": "3.8.10"
  }
 },
 "nbformat": 4,
 "nbformat_minor": 5
}
