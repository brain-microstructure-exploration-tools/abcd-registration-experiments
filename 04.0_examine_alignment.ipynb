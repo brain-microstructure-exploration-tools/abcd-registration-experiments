{
 "cells": [
  {
   "cell_type": "code",
   "execution_count": null,
   "id": "22a72721",
   "metadata": {},
   "outputs": [],
   "source": [
    "import os, glob\n",
    "import matplotlib.pyplot as plt\n",
    "import json\n",
    "import numpy as np\n",
    "import random\n",
    "import dipy.io.image\n",
    "import dipy.io\n",
    "import dipy.core.gradients"
   ]
  },
  {
   "cell_type": "code",
   "execution_count": null,
   "id": "b7490849",
   "metadata": {},
   "outputs": [],
   "source": [
    "data_dir = '/home/ebrahim/data/abcd/DMRI_extracted'\n",
    "img_dirs = glob.glob(os.path.join(data_dir,'*ABCD-MPROC-DTI*/sub-*/ses-*/dwi/'))"
   ]
  },
  {
   "cell_type": "code",
   "execution_count": null,
   "id": "45e25d91",
   "metadata": {},
   "outputs": [],
   "source": [
    "reg_mats = []\n",
    "for img_dir in img_dirs:\n",
    "    json_path = glob.glob(os.path.join(img_dir, '*.json'))[0]\n",
    "    with open(json_path) as f:\n",
    "        json_info = json.load(f)\n",
    "    reg_mats.append(np.array(json_info['registration_matrix_T1']))\n",
    "    \n",
    "if all((m==np.eye(4)).all() for m in reg_mats):\n",
    "    print(\"All matrices provided for affine registration to the T1 image are the identity matrix.\")"
   ]
  },
  {
   "cell_type": "code",
   "execution_count": null,
   "id": "ed5c1ac1",
   "metadata": {},
   "outputs": [],
   "source": [
    "def load_img_dir(img_dir):\n",
    "    dwi_path = glob.glob(os.path.join(img_dir, '*.nii'))[0]\n",
    "    bval_path = glob.glob(os.path.join(img_dir, '*.bval'))[0]\n",
    "    bvec_path = glob.glob(os.path.join(img_dir, '*.bvec'))[0]\n",
    "\n",
    "    data, affine = dipy.io.image.load_nifti(dwi_path)\n",
    "    bvals, bvecs = dipy.io.read_bvals_bvecs(bval_path, bvec_path)\n",
    "    gtab = dipy.core.gradients.gradient_table(bvals, bvecs)\n",
    "\n",
    "    return data, gtab"
   ]
  },
  {
   "cell_type": "code",
   "execution_count": null,
   "id": "04667ad0",
   "metadata": {},
   "outputs": [],
   "source": [
    "checkerboard = lambda i1, i2, e1, e2, n1, n2 : (-1)**(int((i1/e1)*n1) + int((i2/e2)*n2))\n",
    "e1=140\n",
    "e2=140\n",
    "n1 = 8\n",
    "n2 = 8\n",
    "cb = np.array([[checkerboard(i1,i2,e1,e2,n1,n2) for i2 in range(e2)] for i1 in range(e1)])\n",
    "cb_mask = (cb==1)"
   ]
  },
  {
   "cell_type": "code",
   "execution_count": null,
   "id": "6e59c954",
   "metadata": {},
   "outputs": [],
   "source": [
    "# load a random pair of images\n",
    "img_dir1, img_dir2 = np.random.choice(img_dirs,2,replace=False)\n",
    "data1, gtab1 = load_img_dir(img_dir1)\n",
    "data2, gtab2 = load_img_dir(img_dir2)\n",
    "\n",
    "# pick a random index for which diffusion weighted image to look at\n",
    "dwi_index1 = np.random.randint(data1.shape[-1])\n",
    "dwi_index2 = np.random.randint(data2.shape[-1])\n",
    "# pick a random axial slice to look at, from the middle-ish\n",
    "axial_slice = np.random.randint(data1.shape[2]/3, data1.shape[2] * 2/3)\n",
    "\n",
    "fig, axs = plt.subplots(1,2, figsize=(16,16))\n",
    "im1 = data1[:,:,axial_slice,dwi_index1].T\n",
    "im2 = data2[:,:,axial_slice,dwi_index2].T\n",
    "axs[0].imshow(im1, cmap='gray', origin='lower')\n",
    "axs[1].imshow(im2, cmap='gray', origin='lower')\n",
    "plt.show()\n",
    "\n",
    "assert(im1.shape==im2.shape)\n",
    "assert(im1.shape==cb.shape)\n",
    "im3 = np.zeros_like(im1)\n",
    "im3[cb_mask] = im1[cb_mask]\n",
    "im3[~cb_mask] = im2[~cb_mask] / im2.max() * im1.max()\n",
    "plt.figure(figsize=(12,12))\n",
    "plt.imshow(im3, cmap='gray', origin='lower')\n",
    "plt.show()"
   ]
  }
 ],
 "metadata": {
  "kernelspec": {
   "display_name": "Python 3 (ipykernel)",
   "language": "python",
   "name": "python3"
  },
  "language_info": {
   "codemirror_mode": {
    "name": "ipython",
    "version": 3
   },
   "file_extension": ".py",
   "mimetype": "text/x-python",
   "name": "python",
   "nbconvert_exporter": "python",
   "pygments_lexer": "ipython3",
   "version": "3.8.10"
  }
 },
 "nbformat": 4,
 "nbformat_minor": 5
}
