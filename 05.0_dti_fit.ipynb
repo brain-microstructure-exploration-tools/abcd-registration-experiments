{
 "cells": [
  {
   "cell_type": "markdown",
   "id": "ee94cda0",
   "metadata": {},
   "source": [
    "The purpose of this notebook is to demonstrate on a randomly selected diffusion weighted dataset how we can obtain a DTI fit, save it to a file, and save an FA image from it. The accompanying script `05.1_dti_fit.py` actually does this stuff to the full dataset. This notebook is just a demo to play with."
   ]
  },
  {
   "cell_type": "code",
   "execution_count": null,
   "id": "22a72721",
   "metadata": {},
   "outputs": [],
   "source": [
    "import os\n",
    "import glob\n",
    "import random\n",
    "import json\n",
    "\n",
    "import matplotlib.pyplot as plt\n",
    "import numpy as np\n",
    "import pandas as pd\n",
    "\n",
    "import dipy.io.image\n",
    "import dipy.io\n",
    "import dipy.core.gradients\n",
    "import dipy.reconst.dti\n",
    "import dipy.segment.mask"
   ]
  },
  {
   "cell_type": "code",
   "execution_count": null,
   "id": "b7490849",
   "metadata": {},
   "outputs": [],
   "source": [
    "data_dir = '/home/ebrahim/data/abcd/DMRI_extracted'\n",
    "img_dirs = glob.glob(os.path.join(data_dir,'*ABCD-MPROC-DTI*/sub-*/ses-*/dwi/'))\n",
    "output_dir = './dti_fit_images/'"
   ]
  },
  {
   "cell_type": "code",
   "execution_count": null,
   "id": "4467f6d9",
   "metadata": {},
   "outputs": [],
   "source": [
    "sampled_fmriresults01_df = pd.read_csv('01.0_abcd_sample/sampled_fmriresults01.csv')\n",
    "sampled_fmriresults01_df['dirname'] = sampled_fmriresults01_df.derived_files.apply(lambda x : x.split('/')[-1].strip('.tgz'))\n",
    "dirname_to_full_path = {img_dir.split('/')[-5]:img_dir for img_dir in img_dirs}"
   ]
  },
  {
   "cell_type": "code",
   "execution_count": null,
   "id": "0a5a42fe",
   "metadata": {},
   "outputs": [],
   "source": [
    "data = []\n",
    "for _,row in sampled_fmriresults01_df.iterrows():\n",
    "    if row.dirname not in dirname_to_full_path.keys():\n",
    "        raise FileNotFoundError(f\"Could not find a directory for fmriresults01 id {row.fmriresults01_id}\")\n",
    "    img_dir = dirname_to_full_path[row.dirname]\n",
    "    dwi_path = glob.glob(os.path.join(img_dir, '*.nii'))[0]\n",
    "    bval_path = glob.glob(os.path.join(img_dir, '*.bval'))[0]\n",
    "    bvec_path = glob.glob(os.path.join(img_dir, '*.bvec'))[0]\n",
    "    data.append({\n",
    "        'img_dir' : img_dir,\n",
    "        'dwi_path' : dwi_path,\n",
    "        'bval_path' : bval_path,\n",
    "        'bvec_path' : bvec_path,\n",
    "        'subjectkey' : row.subjectkey,\n",
    "        'interview_age' : row.interview_age\n",
    "    })"
   ]
  },
  {
   "cell_type": "code",
   "execution_count": null,
   "id": "269f6dd1",
   "metadata": {},
   "outputs": [],
   "source": [
    "# Run this to look at the number of bvals for each image, alongside subject id and interview age\n",
    "\n",
    "for d in data:\n",
    "    bvals, bvecs = dipy.io.read_bvals_bvecs(d['bval_path'], d['bvec_path'])\n",
    "    print(f\"{len(bvals)} \\t {d['subjectkey']} \\t {d['interview_age']}\")"
   ]
  },
  {
   "cell_type": "code",
   "execution_count": null,
   "id": "7edd5282",
   "metadata": {},
   "outputs": [],
   "source": [
    "d = random.choice(data)\n",
    "img_data, affine = dipy.io.image.load_nifti(d['dwi_path'])\n",
    "bvals, bvecs = dipy.io.read_bvals_bvecs(d['bval_path'], d['bvec_path'])\n",
    "gtab = dipy.core.gradients.gradient_table(bvals, bvecs)"
   ]
  },
  {
   "cell_type": "code",
   "execution_count": null,
   "id": "0a292188",
   "metadata": {},
   "outputs": [],
   "source": [
    "img_data_masked, mask = dipy.segment.mask.median_otsu(img_data, vol_idx = range(img_data.shape[-1]))"
   ]
  },
  {
   "cell_type": "code",
   "execution_count": null,
   "id": "c8600dff",
   "metadata": {},
   "outputs": [],
   "source": [
    "plt.imshow(mask[:,:,90].T, origin='lower')\n",
    "plt.show()"
   ]
  },
  {
   "cell_type": "code",
   "execution_count": null,
   "id": "50616013",
   "metadata": {},
   "outputs": [],
   "source": [
    "tensor_model = dipy.reconst.dti.TensorModel(gtab)"
   ]
  },
  {
   "cell_type": "code",
   "execution_count": null,
   "id": "6975c36d",
   "metadata": {},
   "outputs": [],
   "source": [
    "tensor_fit = tensor_model.fit(img_data_masked)"
   ]
  },
  {
   "cell_type": "code",
   "execution_count": null,
   "id": "64fe2f3f",
   "metadata": {},
   "outputs": [],
   "source": [
    "# If we wanted to obtain the FA image from the tensor_fit object, here is how to do that\n",
    "fa = dipy.reconst.dti.fractional_anisotropy(tensor_fit.evals)"
   ]
  },
  {
   "cell_type": "code",
   "execution_count": null,
   "id": "966f340a",
   "metadata": {},
   "outputs": [],
   "source": [
    "np.isnan(fa).sum() # Notice there are no nans"
   ]
  },
  {
   "cell_type": "code",
   "execution_count": null,
   "id": "2dc07182",
   "metadata": {},
   "outputs": [],
   "source": [
    "fig,axs = plt.subplots(1,2,figsize=(20,10))\n",
    "axs[0].imshow(fa[62,:,:].T, origin='lower', cmap='gray')\n",
    "axs[1].imshow(fa[:,:,80].T, origin='lower', cmap='gray')\n",
    "plt.show()"
   ]
  },
  {
   "cell_type": "code",
   "execution_count": null,
   "id": "27efbcc6",
   "metadata": {},
   "outputs": [],
   "source": [
    "# Save the lower triangular part, \n",
    "# i.e. the unique elements of the diffusion tensor in the order Dxx, Dxy, Dyy, Dxz, Dyz, Dzz\n",
    "lt = tensor_fit.lower_triangular()\n",
    "dipy.io.image.save_nifti('test_lt.nii.gz', lt, affine)"
   ]
  },
  {
   "cell_type": "markdown",
   "id": "0781fff3",
   "metadata": {},
   "source": [
    "If you wanted to construct the FA image from the lower triangular part of the diffusion tensor, here's how:"
   ]
  },
  {
   "cell_type": "code",
   "execution_count": null,
   "id": "4da622d1",
   "metadata": {},
   "outputs": [],
   "source": [
    "eig = dipy.reconst.dti.eig_from_lo_tri(lt) # has eigenvals and eigenvecs\n",
    "eigvals = eig[:,:,:,:3] # take only the eigenvals\n",
    "fa = dipy.reconst.dti.fractional_anisotropy(eigvals)"
   ]
  },
  {
   "cell_type": "code",
   "execution_count": null,
   "id": "e3742da4",
   "metadata": {},
   "outputs": [],
   "source": [
    "fig,axs = plt.subplots(1,2,figsize=(20,10))\n",
    "axs[0].imshow(fa[62,:,:].T, origin='lower', cmap='gray')\n",
    "axs[1].imshow(fa[:,:,80].T, origin='lower', cmap='gray')\n",
    "plt.show()"
   ]
  }
 ],
 "metadata": {
  "kernelspec": {
   "display_name": "Python 3 (ipykernel)",
   "language": "python",
   "name": "python3"
  },
  "language_info": {
   "codemirror_mode": {
    "name": "ipython",
    "version": 3
   },
   "file_extension": ".py",
   "mimetype": "text/x-python",
   "name": "python",
   "nbconvert_exporter": "python",
   "pygments_lexer": "ipython3",
   "version": "3.8.10"
  }
 },
 "nbformat": 4,
 "nbformat_minor": 5
}
