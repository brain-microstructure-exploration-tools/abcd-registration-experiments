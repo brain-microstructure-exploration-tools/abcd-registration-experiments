{
 "cells": [
  {
   "cell_type": "code",
   "execution_count": 1,
   "id": "22a72721",
   "metadata": {},
   "outputs": [],
   "source": [
    "import os, glob\n",
    "import matplotlib.pyplot as plt\n",
    "import json\n",
    "import numpy as np\n",
    "import random\n",
    "import dipy.io.image\n",
    "import dipy.io\n",
    "import dipy.core.gradients\n",
    "import pandas as pd"
   ]
  },
  {
   "cell_type": "code",
   "execution_count": 2,
   "id": "b7490849",
   "metadata": {},
   "outputs": [],
   "source": [
    "data_dir = '/home/ebrahim/data/abcd/DMRI_extracted'\n",
    "img_dirs = glob.glob(os.path.join(data_dir,'*ABCD-MPROC-DTI*/sub-*/ses-*/dwi/'))\n",
    "output_dir = './dti_fit_images/'"
   ]
  },
  {
   "cell_type": "code",
   "execution_count": 3,
   "id": "8afb6865",
   "metadata": {},
   "outputs": [],
   "source": [
    "sampled_fmriresults01_df = pd.read_csv('01.0_abcd_sample/sampled_fmriresults01.csv')\n",
    "sampled_fmriresults01_df['dirname'] = sampled_fmriresults01_df.derived_files.apply(lambda x : x.split('/')[-1].strip('.tgz'))\n",
    "dirname_to_full_path = {img_dir.split('/')[-5]:img_dir for img_dir in img_dirs}"
   ]
  },
  {
   "cell_type": "code",
   "execution_count": 15,
   "id": "2222c0b7",
   "metadata": {},
   "outputs": [],
   "source": [
    "data = []\n",
    "for _,row in sampled_fmriresults01_df.iterrows():\n",
    "    if row.dirname not in dirname_to_full_path.keys():\n",
    "        raise FileNotFoundError(f\"Could not find a directory for fmriresults01 id {row.fmriresults01_id}\")\n",
    "    data.append({\n",
    "        'img_dir' : dirname_to_full_path[row.dirname],\n",
    "        'subjectkey' : row.subjectkey,\n",
    "        'interview_age' : row.interview_age\n",
    "    })"
   ]
  },
  {
   "cell_type": "code",
   "execution_count": 16,
   "id": "ed5c1ac1",
   "metadata": {},
   "outputs": [],
   "source": [
    "def load_img_dir(img_dir):\n",
    "    img_dir = random.choice(img_dirs)\n",
    "    dwi_path = glob.glob(os.path.join(img_dir, '*.nii'))[0]\n",
    "    bval_path = glob.glob(os.path.join(img_dir, '*.bval'))[0]\n",
    "    bvec_path = glob.glob(os.path.join(img_dir, '*.bvec'))[0]\n",
    "\n",
    "    img_data, affine = dipy.io.image.load_nifti(dwi_path)\n",
    "    bvals, bvecs = dipy.io.read_bvals_bvecs(bval_path, bvec_path)\n",
    "    gtab = dipy.core.gradients.gradient_table(bvals, bvecs)\n",
    "\n",
    "    return img_data, gtab"
   ]
  },
  {
   "cell_type": "code",
   "execution_count": 19,
   "id": "e29d9115",
   "metadata": {
    "collapsed": true
   },
   "outputs": [
    {
     "name": "stdout",
     "output_type": "stream",
     "text": [
      "103 \t NDAR_INV1306ZGW1 \t 115\n",
      "103 \t NDAR_INV36E4JVZ2 \t 129\n",
      "103 \t NDAR_INV36E4JVZ2 \t 153\n",
      "104 \t NDAR_INV3XNH8EYM \t 138\n",
      "103 \t NDAR_INV4C8YJ9BG \t 131\n",
      "103 \t NDAR_INV4C8YJ9BG \t 157\n",
      "103 \t NDAR_INV52XG9LJ3 \t 114\n",
      "103 \t NDAR_INV52XG9LJ3 \t 138\n",
      "103 \t NDAR_INV5K67LYGB \t 127\n",
      "103 \t NDAR_INV5K67LYGB \t 151\n",
      "103 \t NDAR_INV5U9JTZ3X \t 113\n",
      "51 \t NDAR_INV6L7B1GX3 \t 133\n",
      "51 \t NDAR_INV6L7B1GX3 \t 133\n",
      "104 \t NDAR_INV72Z70LY1 \t 136\n",
      "103 \t NDAR_INV7H3FYUBB \t 121\n",
      "103 \t NDAR_INV7H3FYUBB \t 146\n",
      "103 \t NDAR_INV7L2M29CY \t 114\n",
      "103 \t NDAR_INV7NVJNHRE \t 112\n",
      "104 \t NDAR_INV7NVJNHRE \t 136\n",
      "104 \t NDAR_INV7RGX9G26 \t 109\n",
      "103 \t NDAR_INV93DMBG2D \t 111\n",
      "103 \t NDAR_INV9D6W29Z7 \t 123\n",
      "104 \t NDAR_INV9D6W29Z7 \t 146\n",
      "103 \t NDAR_INV9KX83G7Z \t 111\n",
      "103 \t NDAR_INV9KX83G7Z \t 135\n",
      "103 \t NDAR_INVB2FVBDTD \t 120\n",
      "103 \t NDAR_INVB2FVBDTD \t 144\n",
      "103 \t NDAR_INVB349E4D3 \t 128\n",
      "103 \t NDAR_INVB349E4D3 \t 152\n",
      "103 \t NDAR_INVBB9X243N \t 117\n",
      "103 \t NDAR_INVC624EF1K \t 109\n",
      "103 \t NDAR_INVC624EF1K \t 131\n",
      "103 \t NDAR_INVCX9VNMT6 \t 113\n",
      "103 \t NDAR_INVCX9VNMT6 \t 140\n",
      "103 \t NDAR_INVDLR8T512 \t 127\n",
      "103 \t NDAR_INVDLR8T512 \t 148\n",
      "103 \t NDAR_INVE56GMC5F \t 120\n",
      "103 \t NDAR_INVEDF5950W \t 121\n",
      "103 \t NDAR_INVEDF5950W \t 144\n",
      "103 \t NDAR_INVFVXF1HTH \t 113\n",
      "103 \t NDAR_INVFY31ZKY7 \t 152\n",
      "103 \t NDAR_INVFZ7B9KJ8 \t 108\n",
      "103 \t NDAR_INVFZ7B9KJ8 \t 133\n",
      "103 \t NDAR_INVG0E0L3HV \t 131\n",
      "103 \t NDAR_INVG0E0L3HV \t 156\n",
      "51 \t NDAR_INVGXCZ2ELG \t 120\n",
      "51 \t NDAR_INVGXCZ2ELG \t 120\n",
      "51 \t NDAR_INVGXCZ2ELG \t 145\n",
      "51 \t NDAR_INVGXCZ2ELG \t 145\n",
      "103 \t NDAR_INVJ7L6EW0J \t 129\n",
      "103 \t NDAR_INVJHYBD2XK \t 125\n",
      "103 \t NDAR_INVJHYBD2XK \t 149\n",
      "103 \t NDAR_INVK86BCPMG \t 117\n",
      "104 \t NDAR_INVK86BCPMG \t 141\n",
      "103 \t NDAR_INVKFUY5YHC \t 120\n",
      "104 \t NDAR_INVKFUY5YHC \t 146\n",
      "51 \t NDAR_INVL124KUNM \t 146\n",
      "51 \t NDAR_INVL124KUNM \t 146\n",
      "103 \t NDAR_INVLN9JCZ56 \t 131\n",
      "103 \t NDAR_INVLN9JCZ56 \t 158\n",
      "103 \t NDAR_INVM9VTUE2G \t 117\n",
      "103 \t NDAR_INVMJTPRDKA \t 131\n",
      "103 \t NDAR_INVN9D4XZKE \t 119\n",
      "103 \t NDAR_INVN9D4XZKE \t 143\n",
      "103 \t NDAR_INVNVZEHYV5 \t 124\n",
      "103 \t NDAR_INVPDW73ZHF \t 125\n",
      "104 \t NDAR_INVPDW73ZHF \t 146\n",
      "103 \t NDAR_INVPRNEYMH1 \t 108\n",
      "103 \t NDAR_INVR62PJ1EJ \t 111\n",
      "103 \t NDAR_INVRXN9H1J6 \t 140\n",
      "103 \t NDAR_INVTANY2ML3 \t 113\n",
      "103 \t NDAR_INVU7VVFRJX \t 130\n",
      "51 \t NDAR_INVU9VKB2N8 \t 142\n",
      "51 \t NDAR_INVU9VKB2N8 \t 142\n",
      "103 \t NDAR_INVUAYNYWT7 \t 110\n",
      "104 \t NDAR_INVUAYNYWT7 \t 135\n",
      "103 \t NDAR_INVULJ63ZZK \t 121\n",
      "51 \t NDAR_INVVM0UX0L1 \t 110\n",
      "51 \t NDAR_INVVM0UX0L1 \t 110\n",
      "51 \t NDAR_INVVM0UX0L1 \t 134\n",
      "51 \t NDAR_INVVM0UX0L1 \t 134\n",
      "103 \t NDAR_INVX3ZLE0DN \t 110\n",
      "103 \t NDAR_INVX5326K7A \t 109\n",
      "104 \t NDAR_INVX6BE06VZ \t 109\n",
      "104 \t NDAR_INVX6BE06VZ \t 139\n",
      "103 \t NDAR_INVXHXZ933C \t 130\n",
      "103 \t NDAR_INVXZRDA6CJ \t 130\n",
      "103 \t NDAR_INVXZRDA6CJ \t 152\n",
      "103 \t NDAR_INVY6XXVZT3 \t 130\n",
      "103 \t NDAR_INVZGDMXH98 \t 114\n",
      "104 \t NDAR_INVZGDMXH98 \t 139\n",
      "103 \t NDAR_INVZJDPXX7G \t 118\n"
     ]
    }
   ],
   "source": [
    "# Run this to look at the number of bvals for each image, alongside subject id and interview age\n",
    "\n",
    "for d in data:\n",
    "    img_dir = d['img_dir']\n",
    "    bval_path = glob.glob(os.path.join(img_dir, '*.bval'))[0]\n",
    "    bvec_path = glob.glob(os.path.join(img_dir, '*.bvec'))[0]\n",
    "    bvals, bvecs = dipy.io.read_bvals_bvecs(bval_path, bvec_path)\n",
    "    print(f\"{len(bvals)} \\t {d['subjectkey']} \\t {d['interview_age']}\")"
   ]
  },
  {
   "cell_type": "code",
   "execution_count": null,
   "id": "a99e4e07",
   "metadata": {},
   "outputs": [],
   "source": []
  }
 ],
 "metadata": {
  "kernelspec": {
   "display_name": "Python 3 (ipykernel)",
   "language": "python",
   "name": "python3"
  },
  "language_info": {
   "codemirror_mode": {
    "name": "ipython",
    "version": 3
   },
   "file_extension": ".py",
   "mimetype": "text/x-python",
   "name": "python",
   "nbconvert_exporter": "python",
   "pygments_lexer": "ipython3",
   "version": "3.8.10"
  }
 },
 "nbformat": 4,
 "nbformat_minor": 5
}
