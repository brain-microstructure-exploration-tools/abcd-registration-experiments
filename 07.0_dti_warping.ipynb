{
 "cells": [
  {
   "cell_type": "code",
   "execution_count": null,
   "id": "1bb8f609",
   "metadata": {},
   "outputs": [],
   "source": [
    "from pathlib import Path\n",
    "import random\n",
    "import dipy.io.image\n",
    "import dipy.reconst.dti\n",
    "import matplotlib.pyplot as plt"
   ]
  },
  {
   "cell_type": "code",
   "execution_count": null,
   "id": "72ebf5d9",
   "metadata": {},
   "outputs": [],
   "source": [
    "def preview(img):\n",
    "    fig,axs = plt.subplots(1,3,figsize=(20,10))\n",
    "    axs[0].imshow(img[62,:,:].T, origin='lower', cmap='gray')\n",
    "    axs[1].imshow(img[:,:,80].T, origin='lower', cmap='gray')\n",
    "    axs[2].imshow(img[:,75,:].T, origin='lower', cmap='gray')\n",
    "    plt.show()\n",
    "    \n",
    "dti_image_paths = list(Path('dti_fit_images_nontest/dti/').glob('*'))"
   ]
  },
  {
   "cell_type": "code",
   "execution_count": null,
   "id": "f0604f74",
   "metadata": {},
   "outputs": [],
   "source": [
    "dti_image_path = random.choice(dti_image_paths)\n",
    "print(dti_image_path)"
   ]
  },
  {
   "cell_type": "code",
   "execution_count": null,
   "id": "060506e4",
   "metadata": {},
   "outputs": [],
   "source": [
    "img_data, affine = dipy.io.image.load_nifti(dti_image_path)\n",
    "img_data.shape"
   ]
  },
  {
   "cell_type": "markdown",
   "id": "e871e866",
   "metadata": {},
   "source": [
    "Now `img_data` is a numpy array of shape (140,140,140,6), representing the lower triangular entries of a diffusion tensor on a space of shape (140,140,140). I believe they are in the order Dxx, Dxy, Dyy, Dxz, Dyz, Dzz; see [here](https://dipy.org/documentation/1.4.0./reference/dipy.reconst)."
   ]
  },
  {
   "cell_type": "code",
   "execution_count": null,
   "id": "c4816090",
   "metadata": {},
   "outputs": [],
   "source": [
    "dti = dipy.reconst.dti.from_lower_triangular(img_data)\n",
    "\n",
    "assert((dti[:,:,:,0,1]==dti[:,:,:,1,0]).all())\n",
    "assert((dti[:,:,:,1,2]==dti[:,:,:,2,1]).all())\n",
    "assert((dti[:,:,:,0,2]==dti[:,:,:,2,0]).all())\n",
    "dti.shape"
   ]
  },
  {
   "cell_type": "markdown",
   "id": "2314a12f",
   "metadata": {},
   "source": [
    "Above we have produced the 3x3 symmetric matrices from the lower triangular part"
   ]
  },
  {
   "cell_type": "code",
   "execution_count": null,
   "id": "5409db97",
   "metadata": {},
   "outputs": [],
   "source": [
    "import torch"
   ]
  },
  {
   "cell_type": "code",
   "execution_count": null,
   "id": "9b035bdf",
   "metadata": {},
   "outputs": [],
   "source": [
    "dti_tensor = torch.tensor(dti).permute((3,4,0,1,2)).unsqueeze(0)\n",
    "\n",
    "# Nedd to think about dipy axis order more carefully, but for now let's see if solving will work at all.\n",
    "dti_tensor.shape"
   ]
  },
  {
   "cell_type": "code",
   "execution_count": null,
   "id": "00f4c0fa",
   "metadata": {},
   "outputs": [],
   "source": [
    "# Let's compute a warp from FA images, just so we have a warp to play with\n",
    "\n",
    "from fa_deformable_registration_models.reg_model1 import RegModel\n",
    "\n",
    "reg_model = RegModel()"
   ]
  },
  {
   "cell_type": "code",
   "execution_count": null,
   "id": "421c71dc",
   "metadata": {},
   "outputs": [],
   "source": [
    "# Load the FA of this DTI image and then also load some other random FA image\n",
    "\n",
    "fa_image_path = dti_image_path.parent.parent/'fa'/dti_image_path.name\n",
    "fa_image_path2 = random.choice(list((dti_image_path.parent.parent/'fa').glob('*')))\n",
    "print(fa_image_path, fa_image_path2, sep='\\n')"
   ]
  },
  {
   "cell_type": "code",
   "execution_count": null,
   "id": "060da714",
   "metadata": {},
   "outputs": [],
   "source": [
    "# Turn the FA images into tensors and compute a deformation that aligns our original FA image to the random one\n",
    "\n",
    "fa_img, affine = dipy.io.image.load_nifti(fa_image_path)\n",
    "fa_img2, affine = dipy.io.image.load_nifti(fa_image_path2)\n",
    "\n",
    "fa_tensor1 = torch.tensor(fa_img, dtype=torch.float32).unsqueeze(0)\n",
    "fa_tensor2 = torch.tensor(fa_img2, dtype=torch.float32).unsqueeze(0)\n",
    "\n",
    "ddf = reg_model.forward(fa_tensor2, fa_tensor1)\n",
    "\n",
    "from util import preview_3D_vector_field\n",
    "preview_3D_vector_field(ddf)"
   ]
  },
  {
   "cell_type": "code",
   "execution_count": null,
   "id": "913ed4d7",
   "metadata": {},
   "outputs": [],
   "source": [
    "from spatial_derivatives import DerivativeOfDDF\n",
    "\n",
    "deriv_ddf = DerivativeOfDDF(device=reg_model.device)"
   ]
  },
  {
   "cell_type": "code",
   "execution_count": null,
   "id": "7345a8b6",
   "metadata": {
    "scrolled": false
   },
   "outputs": [],
   "source": [
    "# Compute the derivative matrix field of the warp\n",
    "\n",
    "c,h,w,d = ddf.shape\n",
    "b=1\n",
    "assert(c==3)\n",
    "J = deriv_ddf(ddf.unsqueeze(0)).reshape(b,3,3,h,w,d)\n",
    "J.shape"
   ]
  },
  {
   "cell_type": "code",
   "execution_count": null,
   "id": "8c3668ce",
   "metadata": {},
   "outputs": [],
   "source": [
    "# Take our original DTI and make it a tensor\n",
    "\n",
    "dti_tensor = dti_tensor.to(J)\n",
    "dti_tensor.shape"
   ]
  },
  {
   "cell_type": "code",
   "execution_count": null,
   "id": "3c844a9a",
   "metadata": {},
   "outputs": [],
   "source": [
    "# Next we will show how we transform the DTI tensors based on the warping\n",
    "\n",
    "# First, move the spatial dimensions into the batch dimension\n",
    "\n",
    "F_batched = dti_tensor.permute((0,3,4,5,1,2)).reshape((-1,3,3))\n",
    "J_batched = J.permute((0,3,4,5,1,2)).reshape(-1,3,3)"
   ]
  },
  {
   "cell_type": "code",
   "execution_count": null,
   "id": "28c21134",
   "metadata": {},
   "outputs": [],
   "source": [
    "# Use torch.linalg.solve on the batch to compute the transformed diffusion tensors\n",
    "\n",
    "G = torch.linalg.solve(J_batched.permute((0,2,1)), F_batched)\n",
    "F_transformed_batched = torch.linalg.solve(J_batched.permute((0,2,1)), G.permute((0,2,1))).permute((0,2,1))"
   ]
  },
  {
   "cell_type": "code",
   "execution_count": null,
   "id": "cfeab4ef",
   "metadata": {},
   "outputs": [],
   "source": [
    "# Move the spatial dimensions back out of the batch dimension\n",
    "\n",
    "F_transformed = F_transformed_batched.reshape(b,h,w,d,3,3).permute((0,4,5,1,2,3))\n",
    "F_transformed.shape"
   ]
  },
  {
   "cell_type": "code",
   "execution_count": null,
   "id": "17e23050",
   "metadata": {},
   "outputs": [],
   "source": [
    "# Convert to lower triangular form (convert to dipy indexing,\n",
    "# use dipy to convert to lower triangular form, then convert back to usual indexing)\n",
    "F_transformed_lo_tri = dipy.reconst.dti.lower_triangular(F_transformed[0].permute((2,3,4,0,1))).permute((3,0,1,2)).unsqueeze(0)\n",
    "print(F_transformed_lo_tri.shape)\n",
    "\n",
    "# Apply the spatial transformation to actually moe the tensors in space\n",
    "# (Above we transformed the tensors in place, but we didn't move them yet)\n",
    "F_transformed_lo_tri_warped = reg_model.model.warp(F_transformed_lo_tri, ddf.unsqueeze(0))\n",
    "print(F_transformed_lo_tri_warped.shape)"
   ]
  },
  {
   "cell_type": "code",
   "execution_count": null,
   "id": "fcb7cb99",
   "metadata": {},
   "outputs": [],
   "source": [
    "# Switch to dipy indexing  so we can compute a new FA image out of our fully transformed DTI\n",
    "F_transformed_lo_tri_warped_dipy = F_transformed_lo_tri_warped[0].permute((1,2,3,0)).cpu().numpy()\n",
    "print(F_transformed_lo_tri_warped_dipy.shape)\n",
    "\n",
    "# Compute the new FA image\n",
    "eig = dipy.reconst.dti.eig_from_lo_tri(F_transformed_lo_tri_warped_dipy) # has eigenvals and eigenvecs\n",
    "eigvals = eig[:,:,:,:3] # take only the eigenvals\n",
    "fa_after_transform = dipy.reconst.dti.fractional_anisotropy(eigvals) # take only the eigenvals\n",
    "print(fa_after_transform.shape)"
   ]
  },
  {
   "cell_type": "code",
   "execution_count": null,
   "id": "51fbf7c4",
   "metadata": {},
   "outputs": [],
   "source": [
    "print(\"FA image 1:\")\n",
    "preview(fa_img)\n",
    "print(\"FA image 2:\")\n",
    "preview(fa_img2)\n",
    "print(\"The result of inferring a deformation from FA image 1 to FA image 2, using that deformation to transform DTI image 1, and then computing the FA of the resulting transformed DTI:\")\n",
    "preview(fa_after_transform)"
   ]
  },
  {
   "cell_type": "markdown",
   "id": "ee4322cd",
   "metadata": {},
   "source": [
    "Something is horribly wrong. I wonder if my assumptions were wrong about DIPY's ordering of axes.\n",
    "Or maybe my tensor transformation law implementation has an error."
   ]
  }
 ],
 "metadata": {
  "kernelspec": {
   "display_name": "Python 3 (ipykernel)",
   "language": "python",
   "name": "python3"
  },
  "language_info": {
   "codemirror_mode": {
    "name": "ipython",
    "version": 3
   },
   "file_extension": ".py",
   "mimetype": "text/x-python",
   "name": "python",
   "nbconvert_exporter": "python",
   "pygments_lexer": "ipython3",
   "version": "3.8.10"
  }
 },
 "nbformat": 4,
 "nbformat_minor": 5
}
