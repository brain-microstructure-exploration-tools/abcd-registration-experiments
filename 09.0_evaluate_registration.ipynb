{
 "cells": [
  {
   "cell_type": "markdown",
   "id": "80d4db69",
   "metadata": {},
   "source": [
    "This notebook evaluates a bunch of registration models based on their ability to align diffusion tensors."
   ]
  },
  {
   "cell_type": "code",
   "execution_count": 1,
   "id": "7fa95543",
   "metadata": {},
   "outputs": [
    {
     "ename": "KeyboardInterrupt",
     "evalue": "",
     "output_type": "error",
     "traceback": [
      "\u001b[0;31m---------------------------------------------------------------------------\u001b[0m",
      "\u001b[0;31mKeyboardInterrupt\u001b[0m                         Traceback (most recent call last)",
      "\u001b[0;32m/tmp/ipykernel_2439418/3870729928.py\u001b[0m in \u001b[0;36m<module>\u001b[0;34m\u001b[0m\n\u001b[1;32m      1\u001b[0m \u001b[0;32mimport\u001b[0m \u001b[0mtorch\u001b[0m\u001b[0;34m\u001b[0m\u001b[0;34m\u001b[0m\u001b[0m\n\u001b[0;32m----> 2\u001b[0;31m \u001b[0;32mimport\u001b[0m \u001b[0mmonai\u001b[0m\u001b[0;34m\u001b[0m\u001b[0;34m\u001b[0m\u001b[0m\n\u001b[0m\u001b[1;32m      3\u001b[0m \u001b[0;32mimport\u001b[0m \u001b[0mnumpy\u001b[0m \u001b[0;32mas\u001b[0m \u001b[0mnp\u001b[0m\u001b[0;34m\u001b[0m\u001b[0;34m\u001b[0m\u001b[0m\n\u001b[1;32m      4\u001b[0m \u001b[0;32mimport\u001b[0m \u001b[0mpandas\u001b[0m \u001b[0;32mas\u001b[0m \u001b[0mpd\u001b[0m\u001b[0;34m\u001b[0m\u001b[0;34m\u001b[0m\u001b[0m\n\u001b[1;32m      5\u001b[0m \u001b[0;32mfrom\u001b[0m \u001b[0mpathlib\u001b[0m \u001b[0;32mimport\u001b[0m \u001b[0mPath\u001b[0m\u001b[0;34m\u001b[0m\u001b[0;34m\u001b[0m\u001b[0m\n",
      "\u001b[0;32m~/venv/lib/python3.8/site-packages/monai/__init__.py\u001b[0m in \u001b[0;36m<module>\u001b[0;34m\u001b[0m\n\u001b[1;32m     43\u001b[0m \u001b[0;34m\u001b[0m\u001b[0m\n\u001b[1;32m     44\u001b[0m \u001b[0;31m# load directory modules only, skip loading individual files\u001b[0m\u001b[0;34m\u001b[0m\u001b[0;34m\u001b[0m\u001b[0;34m\u001b[0m\u001b[0m\n\u001b[0;32m---> 45\u001b[0;31m \u001b[0mload_submodules\u001b[0m\u001b[0;34m(\u001b[0m\u001b[0msys\u001b[0m\u001b[0;34m.\u001b[0m\u001b[0mmodules\u001b[0m\u001b[0;34m[\u001b[0m\u001b[0m__name__\u001b[0m\u001b[0;34m]\u001b[0m\u001b[0;34m,\u001b[0m \u001b[0;32mFalse\u001b[0m\u001b[0;34m,\u001b[0m \u001b[0mexclude_pattern\u001b[0m\u001b[0;34m=\u001b[0m\u001b[0mexcludes\u001b[0m\u001b[0;34m)\u001b[0m\u001b[0;34m\u001b[0m\u001b[0;34m\u001b[0m\u001b[0m\n\u001b[0m\u001b[1;32m     46\u001b[0m \u001b[0;34m\u001b[0m\u001b[0m\n\u001b[1;32m     47\u001b[0m \u001b[0;31m# load all modules, this will trigger all export decorations\u001b[0m\u001b[0;34m\u001b[0m\u001b[0;34m\u001b[0m\u001b[0;34m\u001b[0m\u001b[0m\n",
      "\u001b[0;32m~/venv/lib/python3.8/site-packages/monai/utils/module.py\u001b[0m in \u001b[0;36mload_submodules\u001b[0;34m(basemod, load_all, exclude_pattern)\u001b[0m\n\u001b[1;32m    189\u001b[0m         \u001b[0;32mif\u001b[0m \u001b[0;34m(\u001b[0m\u001b[0mis_pkg\u001b[0m \u001b[0;32mor\u001b[0m \u001b[0mload_all\u001b[0m\u001b[0;34m)\u001b[0m \u001b[0;32mand\u001b[0m \u001b[0mname\u001b[0m \u001b[0;32mnot\u001b[0m \u001b[0;32min\u001b[0m \u001b[0msys\u001b[0m\u001b[0;34m.\u001b[0m\u001b[0mmodules\u001b[0m \u001b[0;32mand\u001b[0m \u001b[0mmatch\u001b[0m\u001b[0;34m(\u001b[0m\u001b[0mexclude_pattern\u001b[0m\u001b[0;34m,\u001b[0m \u001b[0mname\u001b[0m\u001b[0;34m)\u001b[0m \u001b[0;32mis\u001b[0m \u001b[0;32mNone\u001b[0m\u001b[0;34m:\u001b[0m\u001b[0;34m\u001b[0m\u001b[0;34m\u001b[0m\u001b[0m\n\u001b[1;32m    190\u001b[0m             \u001b[0;32mtry\u001b[0m\u001b[0;34m:\u001b[0m\u001b[0;34m\u001b[0m\u001b[0;34m\u001b[0m\u001b[0m\n\u001b[0;32m--> 191\u001b[0;31m                 \u001b[0mmod\u001b[0m \u001b[0;34m=\u001b[0m \u001b[0mimport_module\u001b[0m\u001b[0;34m(\u001b[0m\u001b[0mname\u001b[0m\u001b[0;34m)\u001b[0m\u001b[0;34m\u001b[0m\u001b[0;34m\u001b[0m\u001b[0m\n\u001b[0m\u001b[1;32m    192\u001b[0m                 \u001b[0mimporter\u001b[0m\u001b[0;34m.\u001b[0m\u001b[0mfind_module\u001b[0m\u001b[0;34m(\u001b[0m\u001b[0mname\u001b[0m\u001b[0;34m)\u001b[0m\u001b[0;34m.\u001b[0m\u001b[0mload_module\u001b[0m\u001b[0;34m(\u001b[0m\u001b[0mname\u001b[0m\u001b[0;34m)\u001b[0m  \u001b[0;31m# type: ignore\u001b[0m\u001b[0;34m\u001b[0m\u001b[0;34m\u001b[0m\u001b[0m\n\u001b[1;32m    193\u001b[0m                 \u001b[0msubmodules\u001b[0m\u001b[0;34m.\u001b[0m\u001b[0mappend\u001b[0m\u001b[0;34m(\u001b[0m\u001b[0mmod\u001b[0m\u001b[0;34m)\u001b[0m\u001b[0;34m\u001b[0m\u001b[0;34m\u001b[0m\u001b[0m\n",
      "\u001b[0;32m/usr/lib/python3.8/importlib/__init__.py\u001b[0m in \u001b[0;36mimport_module\u001b[0;34m(name, package)\u001b[0m\n\u001b[1;32m    125\u001b[0m                 \u001b[0;32mbreak\u001b[0m\u001b[0;34m\u001b[0m\u001b[0;34m\u001b[0m\u001b[0m\n\u001b[1;32m    126\u001b[0m             \u001b[0mlevel\u001b[0m \u001b[0;34m+=\u001b[0m \u001b[0;36m1\u001b[0m\u001b[0;34m\u001b[0m\u001b[0;34m\u001b[0m\u001b[0m\n\u001b[0;32m--> 127\u001b[0;31m     \u001b[0;32mreturn\u001b[0m \u001b[0m_bootstrap\u001b[0m\u001b[0;34m.\u001b[0m\u001b[0m_gcd_import\u001b[0m\u001b[0;34m(\u001b[0m\u001b[0mname\u001b[0m\u001b[0;34m[\u001b[0m\u001b[0mlevel\u001b[0m\u001b[0;34m:\u001b[0m\u001b[0;34m]\u001b[0m\u001b[0;34m,\u001b[0m \u001b[0mpackage\u001b[0m\u001b[0;34m,\u001b[0m \u001b[0mlevel\u001b[0m\u001b[0;34m)\u001b[0m\u001b[0;34m\u001b[0m\u001b[0;34m\u001b[0m\u001b[0m\n\u001b[0m\u001b[1;32m    128\u001b[0m \u001b[0;34m\u001b[0m\u001b[0m\n\u001b[1;32m    129\u001b[0m \u001b[0;34m\u001b[0m\u001b[0m\n",
      "\u001b[0;32m~/venv/lib/python3.8/site-packages/monai/apps/__init__.py\u001b[0m in \u001b[0;36m<module>\u001b[0;34m\u001b[0m\n\u001b[1;32m     11\u001b[0m \u001b[0;34m\u001b[0m\u001b[0m\n\u001b[1;32m     12\u001b[0m \u001b[0;32mfrom\u001b[0m \u001b[0;34m.\u001b[0m\u001b[0mdatasets\u001b[0m \u001b[0;32mimport\u001b[0m \u001b[0mCrossValidation\u001b[0m\u001b[0;34m,\u001b[0m \u001b[0mDecathlonDataset\u001b[0m\u001b[0;34m,\u001b[0m \u001b[0mMedNISTDataset\u001b[0m\u001b[0;34m,\u001b[0m \u001b[0mTciaDataset\u001b[0m\u001b[0;34m\u001b[0m\u001b[0;34m\u001b[0m\u001b[0m\n\u001b[0;32m---> 13\u001b[0;31m \u001b[0;32mfrom\u001b[0m \u001b[0;34m.\u001b[0m\u001b[0mmmars\u001b[0m \u001b[0;32mimport\u001b[0m \u001b[0mMODEL_DESC\u001b[0m\u001b[0;34m,\u001b[0m \u001b[0mRemoteMMARKeys\u001b[0m\u001b[0;34m,\u001b[0m \u001b[0mdownload_mmar\u001b[0m\u001b[0;34m,\u001b[0m \u001b[0mget_model_spec\u001b[0m\u001b[0;34m,\u001b[0m \u001b[0mload_from_mmar\u001b[0m\u001b[0;34m\u001b[0m\u001b[0;34m\u001b[0m\u001b[0m\n\u001b[0m\u001b[1;32m     14\u001b[0m \u001b[0;32mfrom\u001b[0m \u001b[0;34m.\u001b[0m\u001b[0mutils\u001b[0m \u001b[0;32mimport\u001b[0m \u001b[0mSUPPORTED_HASH_TYPES\u001b[0m\u001b[0;34m,\u001b[0m \u001b[0mcheck_hash\u001b[0m\u001b[0;34m,\u001b[0m \u001b[0mdownload_and_extract\u001b[0m\u001b[0;34m,\u001b[0m \u001b[0mdownload_url\u001b[0m\u001b[0;34m,\u001b[0m \u001b[0mextractall\u001b[0m\u001b[0;34m,\u001b[0m \u001b[0mget_logger\u001b[0m\u001b[0;34m,\u001b[0m \u001b[0mlogger\u001b[0m\u001b[0;34m\u001b[0m\u001b[0;34m\u001b[0m\u001b[0m\n",
      "\u001b[0;32m~/venv/lib/python3.8/site-packages/monai/apps/mmars/__init__.py\u001b[0m in \u001b[0;36m<module>\u001b[0;34m\u001b[0m\n\u001b[1;32m     10\u001b[0m \u001b[0;31m# limitations under the License.\u001b[0m\u001b[0;34m\u001b[0m\u001b[0;34m\u001b[0m\u001b[0;34m\u001b[0m\u001b[0m\n\u001b[1;32m     11\u001b[0m \u001b[0;34m\u001b[0m\u001b[0m\n\u001b[0;32m---> 12\u001b[0;31m \u001b[0;32mfrom\u001b[0m \u001b[0;34m.\u001b[0m\u001b[0mmmars\u001b[0m \u001b[0;32mimport\u001b[0m \u001b[0mdownload_mmar\u001b[0m\u001b[0;34m,\u001b[0m \u001b[0mget_model_spec\u001b[0m\u001b[0;34m,\u001b[0m \u001b[0mload_from_mmar\u001b[0m\u001b[0;34m\u001b[0m\u001b[0;34m\u001b[0m\u001b[0m\n\u001b[0m\u001b[1;32m     13\u001b[0m \u001b[0;32mfrom\u001b[0m \u001b[0;34m.\u001b[0m\u001b[0mmodel_desc\u001b[0m \u001b[0;32mimport\u001b[0m \u001b[0mMODEL_DESC\u001b[0m\u001b[0;34m,\u001b[0m \u001b[0mRemoteMMARKeys\u001b[0m\u001b[0;34m\u001b[0m\u001b[0;34m\u001b[0m\u001b[0m\n",
      "\u001b[0;32m~/venv/lib/python3.8/site-packages/monai/apps/mmars/mmars.py\u001b[0m in \u001b[0;36m<module>\u001b[0;34m\u001b[0m\n\u001b[1;32m     25\u001b[0m \u001b[0;32mimport\u001b[0m \u001b[0mtorch\u001b[0m\u001b[0;34m\u001b[0m\u001b[0;34m\u001b[0m\u001b[0m\n\u001b[1;32m     26\u001b[0m \u001b[0;34m\u001b[0m\u001b[0m\n\u001b[0;32m---> 27\u001b[0;31m \u001b[0;32mimport\u001b[0m \u001b[0mmonai\u001b[0m\u001b[0;34m.\u001b[0m\u001b[0mnetworks\u001b[0m\u001b[0;34m.\u001b[0m\u001b[0mnets\u001b[0m \u001b[0;32mas\u001b[0m \u001b[0mmonai_nets\u001b[0m\u001b[0;34m\u001b[0m\u001b[0;34m\u001b[0m\u001b[0m\n\u001b[0m\u001b[1;32m     28\u001b[0m \u001b[0;32mfrom\u001b[0m \u001b[0mmonai\u001b[0m\u001b[0;34m.\u001b[0m\u001b[0mapps\u001b[0m\u001b[0;34m.\u001b[0m\u001b[0mutils\u001b[0m \u001b[0;32mimport\u001b[0m \u001b[0mdownload_and_extract\u001b[0m\u001b[0;34m,\u001b[0m \u001b[0mlogger\u001b[0m\u001b[0;34m\u001b[0m\u001b[0;34m\u001b[0m\u001b[0m\n\u001b[1;32m     29\u001b[0m \u001b[0;32mfrom\u001b[0m \u001b[0mmonai\u001b[0m\u001b[0;34m.\u001b[0m\u001b[0mconfig\u001b[0m\u001b[0;34m.\u001b[0m\u001b[0mtype_definitions\u001b[0m \u001b[0;32mimport\u001b[0m \u001b[0mPathLike\u001b[0m\u001b[0;34m\u001b[0m\u001b[0;34m\u001b[0m\u001b[0m\n",
      "\u001b[0;32m~/venv/lib/python3.8/site-packages/monai/networks/nets/__init__.py\u001b[0m in \u001b[0;36m<module>\u001b[0;34m\u001b[0m\n\u001b[1;32m     10\u001b[0m \u001b[0;31m# limitations under the License.\u001b[0m\u001b[0;34m\u001b[0m\u001b[0;34m\u001b[0m\u001b[0;34m\u001b[0m\u001b[0m\n\u001b[1;32m     11\u001b[0m \u001b[0;34m\u001b[0m\u001b[0m\n\u001b[0;32m---> 12\u001b[0;31m \u001b[0;32mfrom\u001b[0m \u001b[0;34m.\u001b[0m\u001b[0mahnet\u001b[0m \u001b[0;32mimport\u001b[0m \u001b[0mAHnet\u001b[0m\u001b[0;34m,\u001b[0m \u001b[0mAhnet\u001b[0m\u001b[0;34m,\u001b[0m \u001b[0mAHNet\u001b[0m\u001b[0;34m\u001b[0m\u001b[0;34m\u001b[0m\u001b[0m\n\u001b[0m\u001b[1;32m     13\u001b[0m \u001b[0;32mfrom\u001b[0m \u001b[0;34m.\u001b[0m\u001b[0mattentionunet\u001b[0m \u001b[0;32mimport\u001b[0m \u001b[0mAttentionUnet\u001b[0m\u001b[0;34m\u001b[0m\u001b[0;34m\u001b[0m\u001b[0m\n\u001b[1;32m     14\u001b[0m \u001b[0;32mfrom\u001b[0m \u001b[0;34m.\u001b[0m\u001b[0mautoencoder\u001b[0m \u001b[0;32mimport\u001b[0m \u001b[0mAutoEncoder\u001b[0m\u001b[0;34m\u001b[0m\u001b[0;34m\u001b[0m\u001b[0m\n",
      "\u001b[0;32m~/venv/lib/python3.8/site-packages/monai/networks/nets/ahnet.py\u001b[0m in \u001b[0;36m<module>\u001b[0;34m\u001b[0m\n\u001b[1;32m     17\u001b[0m \u001b[0;32mimport\u001b[0m \u001b[0mtorch\u001b[0m\u001b[0;34m.\u001b[0m\u001b[0mnn\u001b[0m\u001b[0;34m.\u001b[0m\u001b[0mfunctional\u001b[0m \u001b[0;32mas\u001b[0m \u001b[0mF\u001b[0m\u001b[0;34m\u001b[0m\u001b[0;34m\u001b[0m\u001b[0m\n\u001b[1;32m     18\u001b[0m \u001b[0;34m\u001b[0m\u001b[0m\n\u001b[0;32m---> 19\u001b[0;31m \u001b[0;32mfrom\u001b[0m \u001b[0mmonai\u001b[0m\u001b[0;34m.\u001b[0m\u001b[0mnetworks\u001b[0m\u001b[0;34m.\u001b[0m\u001b[0mblocks\u001b[0m\u001b[0;34m.\u001b[0m\u001b[0mfcn\u001b[0m \u001b[0;32mimport\u001b[0m \u001b[0mFCN\u001b[0m\u001b[0;34m\u001b[0m\u001b[0;34m\u001b[0m\u001b[0m\n\u001b[0m\u001b[1;32m     20\u001b[0m \u001b[0;32mfrom\u001b[0m \u001b[0mmonai\u001b[0m\u001b[0;34m.\u001b[0m\u001b[0mnetworks\u001b[0m\u001b[0;34m.\u001b[0m\u001b[0mlayers\u001b[0m\u001b[0;34m.\u001b[0m\u001b[0mfactories\u001b[0m \u001b[0;32mimport\u001b[0m \u001b[0mAct\u001b[0m\u001b[0;34m,\u001b[0m \u001b[0mConv\u001b[0m\u001b[0;34m,\u001b[0m \u001b[0mNorm\u001b[0m\u001b[0;34m,\u001b[0m \u001b[0mPool\u001b[0m\u001b[0;34m\u001b[0m\u001b[0;34m\u001b[0m\u001b[0m\n\u001b[1;32m     21\u001b[0m \u001b[0;34m\u001b[0m\u001b[0m\n",
      "\u001b[0;32m~/venv/lib/python3.8/site-packages/monai/networks/blocks/__init__.py\u001b[0m in \u001b[0;36m<module>\u001b[0;34m\u001b[0m\n\u001b[1;32m     13\u001b[0m \u001b[0;32mfrom\u001b[0m \u001b[0;34m.\u001b[0m\u001b[0mactivation\u001b[0m \u001b[0;32mimport\u001b[0m \u001b[0mMemoryEfficientSwish\u001b[0m\u001b[0;34m,\u001b[0m \u001b[0mMish\u001b[0m\u001b[0;34m,\u001b[0m \u001b[0mSwish\u001b[0m\u001b[0;34m\u001b[0m\u001b[0;34m\u001b[0m\u001b[0m\n\u001b[1;32m     14\u001b[0m \u001b[0;32mfrom\u001b[0m \u001b[0;34m.\u001b[0m\u001b[0maspp\u001b[0m \u001b[0;32mimport\u001b[0m \u001b[0mSimpleASPP\u001b[0m\u001b[0;34m\u001b[0m\u001b[0;34m\u001b[0m\u001b[0m\n\u001b[0;32m---> 15\u001b[0;31m \u001b[0;32mfrom\u001b[0m \u001b[0;34m.\u001b[0m\u001b[0mbackbone_fpn_utils\u001b[0m \u001b[0;32mimport\u001b[0m \u001b[0mBackboneWithFPN\u001b[0m\u001b[0;34m\u001b[0m\u001b[0;34m\u001b[0m\u001b[0m\n\u001b[0m\u001b[1;32m     16\u001b[0m \u001b[0;32mfrom\u001b[0m \u001b[0;34m.\u001b[0m\u001b[0mconvolutions\u001b[0m \u001b[0;32mimport\u001b[0m \u001b[0mConvolution\u001b[0m\u001b[0;34m,\u001b[0m \u001b[0mResidualUnit\u001b[0m\u001b[0;34m\u001b[0m\u001b[0;34m\u001b[0m\u001b[0m\n\u001b[1;32m     17\u001b[0m \u001b[0;32mfrom\u001b[0m \u001b[0;34m.\u001b[0m\u001b[0mcrf\u001b[0m \u001b[0;32mimport\u001b[0m \u001b[0mCRF\u001b[0m\u001b[0;34m\u001b[0m\u001b[0;34m\u001b[0m\u001b[0m\n",
      "\u001b[0;32m~/venv/lib/python3.8/site-packages/monai/networks/blocks/backbone_fpn_utils.py\u001b[0m in \u001b[0;36m<module>\u001b[0;34m\u001b[0m\n\u001b[1;32m     61\u001b[0m \u001b[0;32mfrom\u001b[0m \u001b[0;34m.\u001b[0m\u001b[0mfeature_pyramid_network\u001b[0m \u001b[0;32mimport\u001b[0m \u001b[0mExtraFPNBlock\u001b[0m\u001b[0;34m,\u001b[0m \u001b[0mFeaturePyramidNetwork\u001b[0m\u001b[0;34m,\u001b[0m \u001b[0mLastLevelMaxPool\u001b[0m\u001b[0;34m\u001b[0m\u001b[0;34m\u001b[0m\u001b[0m\n\u001b[1;32m     62\u001b[0m \u001b[0;34m\u001b[0m\u001b[0m\n\u001b[0;32m---> 63\u001b[0;31m \u001b[0mtorchvision_models\u001b[0m\u001b[0;34m,\u001b[0m \u001b[0m_\u001b[0m \u001b[0;34m=\u001b[0m \u001b[0moptional_import\u001b[0m\u001b[0;34m(\u001b[0m\u001b[0;34m\"torchvision.models\"\u001b[0m\u001b[0;34m)\u001b[0m\u001b[0;34m\u001b[0m\u001b[0;34m\u001b[0m\u001b[0m\n\u001b[0m\u001b[1;32m     64\u001b[0m \u001b[0;34m\u001b[0m\u001b[0m\n\u001b[1;32m     65\u001b[0m \u001b[0m__all__\u001b[0m \u001b[0;34m=\u001b[0m \u001b[0;34m[\u001b[0m\u001b[0;34m\"BackboneWithFPN\"\u001b[0m\u001b[0;34m]\u001b[0m\u001b[0;34m\u001b[0m\u001b[0;34m\u001b[0m\u001b[0m\n",
      "\u001b[0;32m~/venv/lib/python3.8/site-packages/monai/utils/module.py\u001b[0m in \u001b[0;36moptional_import\u001b[0;34m(module, version, version_checker, name, descriptor, version_args, allow_namespace_pkg)\u001b[0m\n\u001b[1;32m    338\u001b[0m         \u001b[0mactual_cmd\u001b[0m \u001b[0;34m=\u001b[0m \u001b[0;34mf\"import {module}\"\u001b[0m\u001b[0;34m\u001b[0m\u001b[0;34m\u001b[0m\u001b[0m\n\u001b[1;32m    339\u001b[0m     \u001b[0;32mtry\u001b[0m\u001b[0;34m:\u001b[0m\u001b[0;34m\u001b[0m\u001b[0;34m\u001b[0m\u001b[0m\n\u001b[0;32m--> 340\u001b[0;31m         \u001b[0mpkg\u001b[0m \u001b[0;34m=\u001b[0m \u001b[0m__import__\u001b[0m\u001b[0;34m(\u001b[0m\u001b[0mmodule\u001b[0m\u001b[0;34m)\u001b[0m  \u001b[0;31m# top level module\u001b[0m\u001b[0;34m\u001b[0m\u001b[0;34m\u001b[0m\u001b[0m\n\u001b[0m\u001b[1;32m    341\u001b[0m         \u001b[0mthe_module\u001b[0m \u001b[0;34m=\u001b[0m \u001b[0mimport_module\u001b[0m\u001b[0;34m(\u001b[0m\u001b[0mmodule\u001b[0m\u001b[0;34m)\u001b[0m\u001b[0;34m\u001b[0m\u001b[0;34m\u001b[0m\u001b[0m\n\u001b[1;32m    342\u001b[0m         \u001b[0;32mif\u001b[0m \u001b[0;32mnot\u001b[0m \u001b[0mallow_namespace_pkg\u001b[0m\u001b[0;34m:\u001b[0m\u001b[0;34m\u001b[0m\u001b[0;34m\u001b[0m\u001b[0m\n",
      "\u001b[0;32m~/venv/lib/python3.8/site-packages/torchvision/__init__.py\u001b[0m in \u001b[0;36m<module>\u001b[0;34m\u001b[0m\n\u001b[1;32m      2\u001b[0m \u001b[0;32mimport\u001b[0m \u001b[0mos\u001b[0m\u001b[0;34m\u001b[0m\u001b[0;34m\u001b[0m\u001b[0m\n\u001b[1;32m      3\u001b[0m \u001b[0;34m\u001b[0m\u001b[0m\n\u001b[0;32m----> 4\u001b[0;31m \u001b[0;32mfrom\u001b[0m \u001b[0;34m.\u001b[0m\u001b[0mextension\u001b[0m \u001b[0;32mimport\u001b[0m \u001b[0m_HAS_OPS\u001b[0m\u001b[0;34m\u001b[0m\u001b[0;34m\u001b[0m\u001b[0m\n\u001b[0m\u001b[1;32m      5\u001b[0m \u001b[0;34m\u001b[0m\u001b[0m\n\u001b[1;32m      6\u001b[0m \u001b[0;32mfrom\u001b[0m \u001b[0mtorchvision\u001b[0m \u001b[0;32mimport\u001b[0m \u001b[0mmodels\u001b[0m\u001b[0;34m\u001b[0m\u001b[0;34m\u001b[0m\u001b[0m\n",
      "\u001b[0;32m~/venv/lib/python3.8/site-packages/torchvision/extension.py\u001b[0m in \u001b[0;36m<module>\u001b[0;34m\u001b[0m\n\u001b[1;32m     13\u001b[0m \u001b[0;32mtry\u001b[0m\u001b[0;34m:\u001b[0m\u001b[0;34m\u001b[0m\u001b[0;34m\u001b[0m\u001b[0m\n\u001b[1;32m     14\u001b[0m     \u001b[0mlib_path\u001b[0m \u001b[0;34m=\u001b[0m \u001b[0m_get_extension_path\u001b[0m\u001b[0;34m(\u001b[0m\u001b[0;34m'_C'\u001b[0m\u001b[0;34m)\u001b[0m\u001b[0;34m\u001b[0m\u001b[0;34m\u001b[0m\u001b[0m\n\u001b[0;32m---> 15\u001b[0;31m     \u001b[0mtorch\u001b[0m\u001b[0;34m.\u001b[0m\u001b[0mops\u001b[0m\u001b[0;34m.\u001b[0m\u001b[0mload_library\u001b[0m\u001b[0;34m(\u001b[0m\u001b[0mlib_path\u001b[0m\u001b[0;34m)\u001b[0m\u001b[0;34m\u001b[0m\u001b[0;34m\u001b[0m\u001b[0m\n\u001b[0m\u001b[1;32m     16\u001b[0m     \u001b[0m_HAS_OPS\u001b[0m \u001b[0;34m=\u001b[0m \u001b[0;32mTrue\u001b[0m\u001b[0;34m\u001b[0m\u001b[0;34m\u001b[0m\u001b[0m\n\u001b[1;32m     17\u001b[0m \u001b[0;34m\u001b[0m\u001b[0m\n",
      "\u001b[0;32m~/venv/lib/python3.8/site-packages/torch/_ops.py\u001b[0m in \u001b[0;36mload_library\u001b[0;34m(self, path)\u001b[0m\n\u001b[1;32m    108\u001b[0m             \u001b[0;31m# static (global) initialization code in order to register custom\u001b[0m\u001b[0;34m\u001b[0m\u001b[0;34m\u001b[0m\u001b[0;34m\u001b[0m\u001b[0m\n\u001b[1;32m    109\u001b[0m             \u001b[0;31m# operators with the JIT.\u001b[0m\u001b[0;34m\u001b[0m\u001b[0;34m\u001b[0m\u001b[0;34m\u001b[0m\u001b[0m\n\u001b[0;32m--> 110\u001b[0;31m             \u001b[0mctypes\u001b[0m\u001b[0;34m.\u001b[0m\u001b[0mCDLL\u001b[0m\u001b[0;34m(\u001b[0m\u001b[0mpath\u001b[0m\u001b[0;34m)\u001b[0m\u001b[0;34m\u001b[0m\u001b[0;34m\u001b[0m\u001b[0m\n\u001b[0m\u001b[1;32m    111\u001b[0m         \u001b[0mself\u001b[0m\u001b[0;34m.\u001b[0m\u001b[0mloaded_libraries\u001b[0m\u001b[0;34m.\u001b[0m\u001b[0madd\u001b[0m\u001b[0;34m(\u001b[0m\u001b[0mpath\u001b[0m\u001b[0;34m)\u001b[0m\u001b[0;34m\u001b[0m\u001b[0;34m\u001b[0m\u001b[0m\n\u001b[1;32m    112\u001b[0m \u001b[0;34m\u001b[0m\u001b[0m\n",
      "\u001b[0;32m/usr/lib/python3.8/ctypes/__init__.py\u001b[0m in \u001b[0;36m__init__\u001b[0;34m(self, name, mode, handle, use_errno, use_last_error, winmode)\u001b[0m\n\u001b[1;32m    371\u001b[0m \u001b[0;34m\u001b[0m\u001b[0m\n\u001b[1;32m    372\u001b[0m         \u001b[0;32mif\u001b[0m \u001b[0mhandle\u001b[0m \u001b[0;32mis\u001b[0m \u001b[0;32mNone\u001b[0m\u001b[0;34m:\u001b[0m\u001b[0;34m\u001b[0m\u001b[0;34m\u001b[0m\u001b[0m\n\u001b[0;32m--> 373\u001b[0;31m             \u001b[0mself\u001b[0m\u001b[0;34m.\u001b[0m\u001b[0m_handle\u001b[0m \u001b[0;34m=\u001b[0m \u001b[0m_dlopen\u001b[0m\u001b[0;34m(\u001b[0m\u001b[0mself\u001b[0m\u001b[0;34m.\u001b[0m\u001b[0m_name\u001b[0m\u001b[0;34m,\u001b[0m \u001b[0mmode\u001b[0m\u001b[0;34m)\u001b[0m\u001b[0;34m\u001b[0m\u001b[0;34m\u001b[0m\u001b[0m\n\u001b[0m\u001b[1;32m    374\u001b[0m         \u001b[0;32melse\u001b[0m\u001b[0;34m:\u001b[0m\u001b[0;34m\u001b[0m\u001b[0;34m\u001b[0m\u001b[0m\n\u001b[1;32m    375\u001b[0m             \u001b[0mself\u001b[0m\u001b[0;34m.\u001b[0m\u001b[0m_handle\u001b[0m \u001b[0;34m=\u001b[0m \u001b[0mhandle\u001b[0m\u001b[0;34m\u001b[0m\u001b[0;34m\u001b[0m\u001b[0m\n",
      "\u001b[0;31mKeyboardInterrupt\u001b[0m: "
     ]
    }
   ],
   "source": [
    "import torch\n",
    "import monai\n",
    "import numpy as np\n",
    "import pandas as pd\n",
    "from pathlib import Path\n",
    "from spatial_derivatives import JacobianOfDDF\n",
    "from dti_warp import WarpDTI, TensorTransformType, PolarDecompositionMode, MseLossDTI, aoe_dti\n",
    "import util\n",
    "import shutil\n",
    "import time\n",
    "import ants\n",
    "import importlib.util\n",
    "import sys\n",
    "from collections import defaultdict, namedtuple\n",
    "from customRandAffine import AffineAugmentationDTI"
   ]
  },
  {
   "cell_type": "code",
   "execution_count": null,
   "id": "f1ececd7",
   "metadata": {},
   "outputs": [],
   "source": [
    "device = torch.device('cuda')\n",
    "spatial_size = (144,144,144)\n",
    "\n",
    "data_dir = Path('./dti_fit_images_test/')\n",
    "fa_dir = data_dir/'fa'\n",
    "dti_dir = data_dir/'dti'\n",
    "data = [{'dti':str(path), 'fa':str(path.parent.parent/'fa'/path.name), \"filename\":path.name} for path in dti_dir.glob('*')]"
   ]
  },
  {
   "cell_type": "code",
   "execution_count": null,
   "id": "a2bd93a5",
   "metadata": {},
   "outputs": [],
   "source": [
    "k = ['fa', 'dti']\n",
    "\n",
    "transform = monai.transforms.Compose([\n",
    "    monai.transforms.LoadImageD(keys=k),\n",
    "    monai.transforms.EnsureChannelFirstD(keys=k),\n",
    "    monai.transforms.SpatialPadD(keys=k, spatial_size=spatial_size, mode=\"constant\"),\n",
    "    monai.transforms.ToTensorD(keys=k),\n",
    "])"
   ]
  },
  {
   "cell_type": "code",
   "execution_count": null,
   "id": "3da32744",
   "metadata": {},
   "outputs": [],
   "source": [
    "device = 'cuda'\n",
    "\n",
    "jac = JacobianOfDDF('cpu')\n",
    "\n",
    "warp_dti = WarpDTI(\n",
    "    device='cpu',\n",
    "    mode='nearest',\n",
    "    tensor_transform_type=TensorTransformType.FINITE_STRAIN,\n",
    "    polar_decomposition_mode=PolarDecompositionMode.HALLEY_DYNAMIC_WEIGHTS,\n",
    "    num_iterations = 9\n",
    ")\n",
    "\n",
    "warp_scalar = monai.networks.blocks.Warp(mode='nearest')\n",
    "\n",
    "mse_dti = MseLossDTI('cpu')\n",
    "\n",
    "affine_aug = AffineAugmentationDTI(spatial_size, 0.8)"
   ]
  },
  {
   "cell_type": "code",
   "execution_count": null,
   "id": "c22b7a9c",
   "metadata": {},
   "outputs": [],
   "source": [
    "caching = \"disk\"\n",
    "\n",
    "if caching == \"disk\":\n",
    "    cache_dir = Path('./PersistentDatasetCacheDir')\n",
    "    if cache_dir.exists():\n",
    "        shutil.rmtree(cache_dir)\n",
    "    cache_dir.mkdir(exist_ok=True)\n",
    "\n",
    "    ds = monai.data.PersistentDataset(data, transform, cache_dir=cache_dir/'train')\n",
    "\n",
    "elif caching == \"memory\":\n",
    "    ds = monai.data.CacheDataset(data, transform)\n",
    "\n",
    "dl = monai.data.DataLoader(ds, shuffle=True, batch_size=1)"
   ]
  },
  {
   "cell_type": "code",
   "execution_count": null,
   "id": "0a01e236",
   "metadata": {},
   "outputs": [],
   "source": [
    "def import_module_from_path(module_path, module_name):\n",
    "    spec = importlib.util.spec_from_file_location(module_name, module_path)\n",
    "    module = importlib.util.module_from_spec(spec)\n",
    "    globals()[module_name] = module\n",
    "    sys.modules[module_name] = module\n",
    "    spec.loader.exec_module(module)\n",
    "    \n",
    "import_module_from_path(\"models_to_benchmark/2022-09-13-deformable-2be0f3bd.py\", 'module_2be0f3bd')\n",
    "import_module_from_path(\"models_to_benchmark/dti-2022-10-23a-e11e483.py\", 'module_e11e483')\n",
    "import_module_from_path(\"models_to_benchmark/dti-2022-10-24a-10da6f4.py\", 'module_10da6f4')\n",
    "import_module_from_path(\"models_to_benchmark/dti-2022-10-20b-e17e67307.py\", 'module_e17e67307')\n",
    "import_module_from_path(\"models_to_benchmark/dti-2022-10-20b-0a3ef0d334f.py\", 'module_0a3ef0d334f')\n"
   ]
  },
  {
   "cell_type": "code",
   "execution_count": null,
   "id": "b196162e",
   "metadata": {},
   "outputs": [],
   "source": [
    "def noop_model(fa1, fa2, dti1, dti2):\n",
    "    b,_,h,w,d = fa1.shape\n",
    "    ddf = torch.zeros(b,3,h,w,d,dtype=dti1.dtype)\n",
    "    fa2_warped = fa2\n",
    "    t = 0\n",
    "    return ddf, fa2_warped, t"
   ]
  },
  {
   "cell_type": "code",
   "execution_count": null,
   "id": "0b435721",
   "metadata": {},
   "outputs": [],
   "source": [
    "get_nii_path = lambda ants_transforms : [p for p in ants_transforms if '.nii' in Path(p).suffixes][0]\n",
    "def ants_model(fa1, fa2, dti1, dti2):\n",
    "    fa1_ants = ants.from_numpy(fa1.cpu().numpy()[0,0])\n",
    "    fa2_ants = ants.from_numpy(fa2.cpu().numpy()[0,0])\n",
    "    start_time = time.time()\n",
    "    ants_reg = ants.registration(fa1_ants, fa2_ants, type_of_transform='SyN')\n",
    "    t = time.time() - start_time\n",
    "    fa2_warped = torch.tensor(ants_reg['warpedmovout'].numpy()).unsqueeze(0).unsqueeze(0)\n",
    "    fwdtransform_path = get_nii_path(ants_reg['fwdtransforms'])\n",
    "    ddf = monai.transforms.LoadImage(image_only=True)(fwdtransform_path).permute((3,4,0,1,2))\n",
    "    return ddf, fa2_warped, t"
   ]
  },
  {
   "cell_type": "code",
   "execution_count": null,
   "id": "1caa9020",
   "metadata": {},
   "outputs": [],
   "source": [
    "net_2be0f3bd = module_2be0f3bd.create_model(device)\n",
    "def model_2be0f3bd(fa1, fa2, dti1, dti2):\n",
    "    fa1_d, fa2_d = fa1.to(device), fa2.to(device)\n",
    "    start_time = time.time()\n",
    "    ddf,fa2_warped = net_2be0f3bd.forward_inference(fa1_d, fa2_d)\n",
    "    t = time.time() - start_time\n",
    "    return ddf.cpu(), fa2_warped.cpu(), t"
   ]
  },
  {
   "cell_type": "code",
   "execution_count": null,
   "id": "2b98cbb4",
   "metadata": {},
   "outputs": [],
   "source": [
    "net_e11e483 = module_e11e483.create_model(device)\n",
    "def model_e11e483(fa1, fa2, dti1, dti2):\n",
    "    dti1_d, dti2_d = dti1.to(device), dti2.to(device)\n",
    "    fa2_d = fa2.to(device)\n",
    "    start_time = time.time()\n",
    "    ddf = net_e11e483(dti1_d, dti2_d, return_warp_only=True)\n",
    "    fa2_warped = warp_scalar(fa2_d, ddf)\n",
    "    t = time.time() - start_time\n",
    "    return ddf.cpu(), fa2_warped.cpu(), t"
   ]
  },
  {
   "cell_type": "code",
   "execution_count": null,
   "id": "05864d62",
   "metadata": {},
   "outputs": [],
   "source": [
    "net_10da6f4 = module_10da6f4.create_model(device)\n",
    "def model_10da6f4(fa1, fa2, dti1, dti2):\n",
    "    dti1_d, dti2_d = dti1.to(device), dti2.to(device)\n",
    "    fa2_d = fa2.to(device)\n",
    "    start_time = time.time()\n",
    "    ddf = net_10da6f4(dti1_d, dti2_d, return_warp_only=True)\n",
    "    fa2_warped = warp_scalar(fa2_d, ddf)\n",
    "    t = time.time() - start_time\n",
    "    return ddf.cpu(), fa2_warped.cpu(), t"
   ]
  },
  {
   "cell_type": "code",
   "execution_count": null,
   "id": "134f1f11",
   "metadata": {},
   "outputs": [],
   "source": [
    "net_e17e67307 = module_e17e67307.create_model(device)\n",
    "def model_e17e67307(fa1, fa2, dti1, dti2):\n",
    "    dti1_d, dti2_d = dti1.to(device), dti2.to(device)\n",
    "    fa2_d = fa2.to(device)\n",
    "    start_time = time.time()\n",
    "    ddf = net_e17e67307(dti1_d, dti2_d, return_warp_only=True)\n",
    "    fa2_warped = warp_scalar(fa2_d, ddf)\n",
    "    t = time.time() - start_time\n",
    "    return ddf.cpu(), fa2_warped.cpu(), t"
   ]
  },
  {
   "cell_type": "code",
   "execution_count": null,
   "id": "6d68351b",
   "metadata": {},
   "outputs": [],
   "source": [
    "net_0a3ef0d334f = module_0a3ef0d334f.create_model(device)\n",
    "def model_0a3ef0d334f(fa1, fa2, dti1, dti2):\n",
    "    dti1_d, dti2_d = dti1.to(device), dti2.to(device)\n",
    "    fa2_d = fa2.to(device)\n",
    "    start_time = time.time()\n",
    "    ddf = net_0a3ef0d334f(dti1_d, dti2_d, return_warp_only=True)\n",
    "    fa2_warped = warp_scalar(fa2_d, ddf)\n",
    "    t = time.time() - start_time\n",
    "    return ddf.cpu(), fa2_warped.cpu(), t"
   ]
  },
  {
   "cell_type": "code",
   "execution_count": null,
   "id": "02046b80",
   "metadata": {},
   "outputs": [],
   "source": [
    "Metrics = namedtuple(\"Metrics\", \"fa_mse, fa_ncc, dti_mse, weighted_dti_mse, aoe, folds, t\")\n",
    "\n",
    "def compute_metrics(dti1, dti2, fa1, fa2, model):\n",
    "    \n",
    "    ddf, fa2_warped, t = model(fa1, fa2, dti1, dti2)\n",
    "    \n",
    "    fa_mse = ((fa2_warped - fa1)**2).mean().item()\n",
    "    fa_ncc = -util.ncc_loss(fa1,fa2_warped).item()\n",
    "    folds = (jac(ddf)<0).sum().item()\n",
    "\n",
    "    dti2_warped = warp_dti(dti2, ddf)\n",
    "\n",
    "    dti_mse = mse_dti(dti1, dti2_warped).item()\n",
    "    weighted_dti_mse = mse_dti(dti1, dti2_warped, weighting=fa1*0.75+0.25).item()\n",
    "    aoe = aoe_dti(dti1, dti2_warped, fa1).item()\n",
    "    \n",
    "    return Metrics(fa_mse, fa_ncc, dti_mse, weighted_dti_mse, aoe, folds, t)"
   ]
  },
  {
   "cell_type": "code",
   "execution_count": null,
   "id": "7d32016e",
   "metadata": {
    "scrolled": false
   },
   "outputs": [],
   "source": [
    "# Models to evaluate\n",
    "models = {\n",
    "    \"no-op\": noop_model,\n",
    "    \"ants\": ants_model,\n",
    "    \"fa-driven\": model_2be0f3bd,\n",
    "    \"dti-driven-no-affaug-less-reg\": model_e17e67307,\n",
    "    \"dti-driven-no-affaug\": model_e11e483,\n",
    "    \"dti-driven-affaug\": model_10da6f4,\n",
    "    \"dti-driven-L2-noaff-fullFAwt\": model_0a3ef0d334f,\n",
    "}\n",
    "\n",
    "# Number of passes to make over the test data\n",
    "num_passes = 1\n",
    "\n",
    "model_metrics = { k: defaultdict(list) for k in models.keys() }\n",
    "\n",
    "for i in range(num_passes):\n",
    "    print(f\"pass {i+1}/{num_passes}\")\n",
    "    \n",
    "    dl_iter = iter(dl)\n",
    "    j=0\n",
    "    while True:\n",
    "        j+=1\n",
    "        \n",
    "        try:\n",
    "            d1 = next(dl_iter)\n",
    "            d2 = next(dl_iter)\n",
    "        except StopIteration:\n",
    "            break\n",
    "        \n",
    "        print(f\"\\timg pair {j}/{len(ds)//2}\")\n",
    "            \n",
    "        dti1 = d1['dti']\n",
    "        dti2 = d2['dti']\n",
    "        fa1 = d1['fa']\n",
    "        fa2 = d2['fa']\n",
    "        \n",
    "#         fa1, fa2, dti1, dti2 = affine_aug(fa1, fa2, dti1, dti2)\n",
    "        \n",
    "        print('\\t\\t',end='')\n",
    "        for model_key, model in models.items():\n",
    "            print(model_key[:6],'...',end='')\n",
    "            metrics = compute_metrics(dti1, dti2, fa1, fa2, model)\n",
    "            for metric_name, metric_value in metrics._asdict().items():\n",
    "                model_metrics[model_key][metric_name].append(metric_value)\n",
    "        print()\n",
    "            \n",
    "        \n",
    "        "
   ]
  },
  {
   "cell_type": "code",
   "execution_count": null,
   "id": "5011ad8e",
   "metadata": {},
   "outputs": [],
   "source": [
    "df_dict_means = defaultdict(list)\n",
    "df_dict_medians = defaultdict(list)\n",
    "metric_names = list(Metrics._fields)\n",
    "for model_key,metrics in model_metrics.items():\n",
    "    \n",
    "    for metric_name in metric_names:\n",
    "        metric_list = metrics[metric_name]\n",
    "        mean_metric = np.mean(metric_list)\n",
    "        median_metric = np.median(metric_list)\n",
    "                \n",
    "        df_dict_means[model_key].append(mean_metric)\n",
    "        df_dict_medians[model_key].append(median_metric)\n",
    "\n",
    "df_means = pd.DataFrame.from_dict(df_dict_means, orient='index', columns=metric_names)\n",
    "df_medians = pd.DataFrame.from_dict(df_dict_medians, orient='index', columns=metric_names)"
   ]
  },
  {
   "cell_type": "code",
   "execution_count": null,
   "id": "aa02583e",
   "metadata": {},
   "outputs": [],
   "source": [
    "print(\"Means of metrics:\")\n",
    "df_means"
   ]
  },
  {
   "cell_type": "code",
   "execution_count": null,
   "id": "d6c72aa8",
   "metadata": {},
   "outputs": [],
   "source": [
    "print(\"Medians of metrics:\")\n",
    "df_medians"
   ]
  },
  {
   "cell_type": "code",
   "execution_count": null,
   "id": "9db647f5",
   "metadata": {},
   "outputs": [],
   "source": [
    "df_means.to_csv('evaluation_tables/evaluation_means.csv')\n",
    "df_medians.to_csv('evaluation_tables/evaluation_medians.csv')"
   ]
  }
 ],
 "metadata": {
  "kernelspec": {
   "display_name": "Python 3 (ipykernel)",
   "language": "python",
   "name": "python3"
  },
  "language_info": {
   "codemirror_mode": {
    "name": "ipython",
    "version": 3
   },
   "file_extension": ".py",
   "mimetype": "text/x-python",
   "name": "python",
   "nbconvert_exporter": "python",
   "pygments_lexer": "ipython3",
   "version": "3.8.10"
  },
  "widgets": {
   "application/vnd.jupyter.widget-state+json": {
    "state": {},
    "version_major": 2,
    "version_minor": 0
   }
  }
 },
 "nbformat": 4,
 "nbformat_minor": 5
}
