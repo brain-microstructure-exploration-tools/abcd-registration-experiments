{
 "cells": [
  {
   "cell_type": "code",
   "execution_count": null,
   "id": "7fa95543",
   "metadata": {},
   "outputs": [],
   "source": [
    "import torch\n",
    "import monai\n",
    "from pathlib import Path\n",
    "from spatial_derivatives import JacobianOfDDF\n",
    "from dti_warp import WarpDTI, TensorTransformType, PolarDecompositionMode, MseLossDTI, aoe_dti\n",
    "import util\n",
    "import shutil\n",
    "import time\n",
    "import ants"
   ]
  },
  {
   "cell_type": "code",
   "execution_count": null,
   "id": "f1ececd7",
   "metadata": {},
   "outputs": [],
   "source": [
    "device = torch.device('cuda')\n",
    "spatial_size = (144,144,144)\n",
    "\n",
    "data_dir = Path('./dti_fit_images_test/')\n",
    "fa_dir = data_dir/'fa'\n",
    "dti_dir = data_dir/'dti'\n",
    "data = [{'dti':str(path), 'fa':str(path.parent.parent/'fa'/path.name), \"filename\":path.name} for path in dti_dir.glob('*')]"
   ]
  },
  {
   "cell_type": "code",
   "execution_count": null,
   "id": "a2bd93a5",
   "metadata": {},
   "outputs": [],
   "source": [
    "k = ['fa', 'dti']\n",
    "\n",
    "transform = monai.transforms.Compose([\n",
    "    monai.transforms.LoadImageD(keys=k),\n",
    "    monai.transforms.EnsureChannelFirstD(keys=k),\n",
    "    monai.transforms.SpatialPadD(keys=k, spatial_size=spatial_size, mode=\"constant\"),\n",
    "    monai.transforms.ToTensorD(keys=k),\n",
    "])"
   ]
  },
  {
   "cell_type": "code",
   "execution_count": null,
   "id": "3da32744",
   "metadata": {},
   "outputs": [],
   "source": [
    "device = 'cpu'\n",
    "\n",
    "jac = JacobianOfDDF(device)\n",
    "\n",
    "warp_dti = WarpDTI(\n",
    "    device=device,\n",
    "    tensor_transform_type=TensorTransformType.FINITE_STRAIN,\n",
    "    polar_decomposition_mode=PolarDecompositionMode.HALLEY_DYNAMIC_WEIGHTS,\n",
    "    num_iterations = 9\n",
    ")\n",
    "\n",
    "warp_scalar = monai.networks.blocks.Warp(mode='nearest')\n",
    "\n",
    "mse_dti = MseLossDTI(device)"
   ]
  },
  {
   "cell_type": "code",
   "execution_count": null,
   "id": "c22b7a9c",
   "metadata": {},
   "outputs": [],
   "source": [
    "caching = \"disk\"\n",
    "\n",
    "if caching == \"disk\":\n",
    "    cache_dir = Path('./PersistentDatasetCacheDir')\n",
    "    if cache_dir.exists():\n",
    "        shutil.rmtree(cache_dir)\n",
    "    cache_dir.mkdir(exist_ok=True)\n",
    "\n",
    "    ds = monai.data.PersistentDataset(data, transform, cache_dir=cache_dir/'train')\n",
    "\n",
    "elif caching == \"memory\":\n",
    "    ds = monai.data.CacheDataset(data, transform)\n",
    "\n",
    "dl = monai.data.DataLoader(ds, shuffle=True, batch_size=1)"
   ]
  },
  {
   "cell_type": "code",
   "execution_count": null,
   "id": "4d5a82c6",
   "metadata": {},
   "outputs": [],
   "source": [
    "it = iter(dl)\n",
    "d1 = next(it)\n",
    "d2 = next(it)\n",
    "\n",
    "dti1 = d1['dti']\n",
    "dti2 = d2['dti']\n",
    "fa1 = d1['fa']\n",
    "fa2 = d2['fa']"
   ]
  },
  {
   "cell_type": "code",
   "execution_count": null,
   "id": "e5e5ce3d",
   "metadata": {},
   "outputs": [],
   "source": [
    "get_nii_path = lambda ants_transforms : [p for p in ants_transforms if '.nii' in Path(p).suffixes][0]\n",
    "def ants_model(fa1, fa2, dti1, dti2):\n",
    "    fa1_ants = ants.from_numpy(fa1.numpy()[0,0])\n",
    "    fa2_ants = ants.from_numpy(fa2.numpy()[0,0])\n",
    "    ants_reg = ants.registration(fa1_ants, fa2_ants, type_of_transform='SyN')\n",
    "    fa2_warped = torch.tensor(ants_reg['warpedmovout'].numpy()).unsqueeze(0).unsqueeze(0)\n",
    "    fwdtransform_path = get_nii_path(ants_reg['fwdtransforms'])\n",
    "    ddf = monai.transforms.LoadImage(image_only=True)(fwdtransform_path).permute((3,4,0,1,2))\n",
    "    return ddf, fa2_warped\n",
    "    \n",
    "\n",
    "def compute_metrics(dti1, dti2, fa1, fa2, model):\n",
    "    start_time = time.time()\n",
    "    ddf, fa2_warped = model(fa1, fa2, dti1, dti2)\n",
    "    t = time.time() - start_time\n",
    "    \n",
    "    fa_mse = ((fa2_warped - fa1)**2).mean().item()\n",
    "    fa_ncc = -util.ncc_loss(fa1,fa2_warped).item()\n",
    "    folds = (jac(ddf)<0).sum().item()\n",
    "\n",
    "    dti2_warped = warp_dti(dti2, ddf)\n",
    "\n",
    "    dti_mse = mse_dti(dti1, dti2_warped).item()\n",
    "    aoe = aoe_dti(dti1, dti2, fa1).item()\n",
    "    \n",
    "    return fa_mse, fa_ncc, dti_mse, aoe, folds, t"
   ]
  },
  {
   "cell_type": "code",
   "execution_count": null,
   "id": "94d6faea",
   "metadata": {},
   "outputs": [],
   "source": [
    "fa_mse, fa_ncc, dti_mse, aoe, folds, t = compute_metrics(dti1, dti2, fa1, fa2, ants_model)\n",
    "\n",
    "print(\"FA mse:\", fa_mse)\n",
    "print(\"FA ncc:\", fa_ncc)\n",
    "print(\"dti mse:\", dti_mse)\n",
    "print(\"dti AOE:\", aoe)\n",
    "print(\"folds:\", folds)\n",
    "print(\"time:\", t)"
   ]
  }
 ],
 "metadata": {
  "kernelspec": {
   "display_name": "Python 3 (ipykernel)",
   "language": "python",
   "name": "python3"
  },
  "language_info": {
   "codemirror_mode": {
    "name": "ipython",
    "version": 3
   },
   "file_extension": ".py",
   "mimetype": "text/x-python",
   "name": "python",
   "nbconvert_exporter": "python",
   "pygments_lexer": "ipython3",
   "version": "3.8.10"
  }
 },
 "nbformat": 4,
 "nbformat_minor": 5
}
